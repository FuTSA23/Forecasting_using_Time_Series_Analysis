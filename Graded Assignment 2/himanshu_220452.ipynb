{
  "nbformat": 4,
  "nbformat_minor": 0,
  "metadata": {
    "colab": {
      "provenance": []
    },
    "kernelspec": {
      "name": "python3",
      "display_name": "Python 3"
    },
    "language_info": {
      "name": "python"
    }
  },
  "cells": [
    {
      "cell_type": "code",
      "source": [
        "import pandas as pd\n",
        "from pandas.plotting import lag_plot\n",
        "import numpy as np\n",
        "import matplotlib.pyplot as plt\n",
        "from pathlib import Path\n",
        "import seaborn as sns\n",
        "from sklearn.impute import SimpleImputer\n",
        "from scipy import interpolate\n",
        "import seaborn as sns"
      ],
      "metadata": {
        "id": "Ia1YFAxkUG_k"
      },
      "execution_count": null,
      "outputs": []
    },
    {
      "cell_type": "markdown",
      "source": [
        "Read the machine_temp_failure_missing.csv dataset into a Pandas DataFrame, must use PathLib. Inspect the dataset, and look for missing values if there are any. Find statistics such as mean, max, min. Rename the value column to temperature. "
      ],
      "metadata": {
        "id": "Hz-mk4FQxUjv"
      }
    },
    {
      "cell_type": "code",
      "source": [
        "\n",
        "filepath = Path('/Users/Himanshu/Desktop/machine_temp_failure_missing.csv')\n",
        "df = pd.read_csv(filepath)\n",
        "missing_values_count = df.isnull().sum()\n",
        "print(df)\n",
        "print(missing_values_count)\n",
        "print(df.value.min())\n",
        "print(df.value.max())\n",
        "print(df.value.mean())\n",
        "df = df.rename(columns={'value':'temperature'})\n",
        "print(df)\n",
        "\n",
        "\n"
      ],
      "metadata": {
        "id": "uhMXBa7RlhSC"
      },
      "execution_count": null,
      "outputs": []
    },
    {
      "cell_type": "markdown",
      "source": [
        "Create a new feature delta_temperature which would be temp[i+1] - temp[i] where i is in range(Index). The feature represents the difference between consecutive temperature values. \n"
      ],
      "metadata": {
        "id": "TT21jt73-cPv"
      }
    },
    {
      "cell_type": "code",
      "source": [
        "\n",
        "\n",
        "df['next_temperature'] = df['temperature'].shift(1)\n",
        "df['delta_temperature'] = df['temperature'] - df['next_temperature']\n",
        "df = df.drop('next_temperature', axis=1)\n",
        "print(df.head())"
      ],
      "metadata": {
        "id": "SCg8_8DkloId"
      },
      "execution_count": null,
      "outputs": []
    },
    {
      "cell_type": "markdown",
      "source": [
        "Generate two separate plots for temperature and delta_temperature using  matplotlib."
      ],
      "metadata": {
        "id": "sUVR6R7K8UwX"
      }
    },
    {
      "cell_type": "code",
      "source": [
        "\n",
        "plt.plot(df.index, df['temperature'])\n",
        "plt.xlabel('index')\n",
        "plt.ylabel('temperature')\n",
        "plt.title('Temperature data')\n",
        "plt.show()\n",
        "\n",
        "\n",
        "plt.plot(df.index, df['delta_temperature'])\n",
        "plt.xlabel('index')\n",
        "plt.ylabel('delta_temperature')\n",
        "plt.title('Delta_temperature data')\n",
        "plt.show()"
      ],
      "metadata": {
        "id": "CeqIvmDu-bFP"
      },
      "execution_count": null,
      "outputs": []
    },
    {
      "cell_type": "markdown",
      "source": [
        "Generate a plot in which temperature values greater than 70.00 are marked as red, and those below 70.00 are marked as blue. \n"
      ],
      "metadata": {
        "id": "YFUU7QAbG5Wg"
      }
    },
    {
      "cell_type": "code",
      "source": [
        "mask = df['temperature'] > 70.00\n",
        "plt.scatter(df.index, df['temperature'], c=mask, cmap='bwr')\n",
        "plt.xlabel('Index')\n",
        "plt.ylabel('Temperature')\n",
        "plt.title('Temperature Plot (Red: >70.00, Blue: <=70.00)')\n",
        "plt.show()"
      ],
      "metadata": {
        "id": "12vOcPxoG-hS"
      },
      "execution_count": null,
      "outputs": []
    },
    {
      "cell_type": "markdown",
      "source": [
        "Write three functions read_datasets(), plot_dfs(), rmse_score() for these datasets (as discussed in 1_4 notebook)."
      ],
      "metadata": {
        "id": "mRkBv3-nzGGl"
      }
    },
    {
      "cell_type": "code",
      "source": [
        "\n",
        "\n",
        "def read_datasets():\n",
        "    df1 = pd.read_csv('/Users/Himanshu/Desktop/machine_temp_failure_original.csv')\n",
        "    df2 = pd.read_csv('/Users/Himanshu/Desktop/machine_temp_failure_missing.csv')\n",
        "    return df1, df2\n",
        "\n",
        "def plot_dfs(df1, df2):\n",
        "    plt.plot(df1['timestamp'], df1['temperature'], label='Dataset 1')\n",
        "    plt.plot(df2['timestamp'], df2['temperature'], label='Dataset 2')\n",
        "    plt.xlabel('Timestamp')\n",
        "    plt.ylabel('Temperature')\n",
        "    plt.title('Temperature Datasets')\n",
        "    plt.legend()\n",
        "    plt.show()\n",
        "\n",
        "def rmse_score(df1, df2, col=None):\n",
        "    df_missing = df2.rename(columns={col: 'missing'})\n",
        "    columns = df_missing.loc[:, 'missing':].columns.tolist()\n",
        "    scores = []\n",
        "    for comp_col in columns[1:]:\n",
        "        rmse = np.sqrt(np.mean((df1[col] - df_missing[comp_col])**2))\n",
        "        scores.append(rmse)\n",
        "        print(f'RMSE for {comp_col}: {rmse}')\n",
        "    return scores"
      ],
      "metadata": {
        "id": "4mgCF_k6zK3p"
      },
      "execution_count": null,
      "outputs": []
    },
    {
      "cell_type": "markdown",
      "source": [
        "Perform univariate imputation on temperature and  using Pandas (mean, ffill, bfill) and Scikit-Learn (SimpleImputer), and interpolation. Compare the RMSE score for each imputation with machine_temp_failure_original.csv  and find the method with the least RMSE score.\n"
      ],
      "metadata": {
        "id": "vBhynmCfzPcJ"
      }
    },
    {
      "cell_type": "code",
      "source": [
        "\n",
        "\n",
        "filepath1 = Path('./machine_temp_failure_original.csv')\n",
        "filepath2 = Path('./machine_temp_failure_missing.csv')\n",
        "df1 = pd.read_csv(filepath1, parse_dates=['timestamp'])\n",
        "df2 = pd.read_csv(filepath2, parse_dates=['timestamp'])\n",
        "df1=df1.rename(columns={'value':'temperature'})\n",
        "df2=df2.rename(columns={'value':'temperature'})\n",
        "\n",
        "\n",
        "\n",
        "df2['ffill'] = df2['temperature'].fillna(method='ffill')\n",
        "df2['bfill'] = df2['temperature'].fillna(method='bfill')\n",
        "df2['mean'] = df2['temperature'].fillna(df2['temperature'].mean())\n",
        "\n",
        "imputer = SimpleImputer(strategy='mean')\n",
        "df2['imputed'] = imputer.fit_transform(df2[['temperature']])\n",
        "\n",
        "df2['interpolated'] = df2['temperature'].interpolate()\n",
        "\n",
        "methods=['ffill','bfill','mean','imputed','interpolated']\n",
        "\n",
        "rmse = rmse_score(df1, df2,'temperature')\n",
        "\n",
        "for x in range(0,5):\n",
        "    if(rmse[x]==min(rmse)):\n",
        "        min_index=x\n",
        "\n",
        "print(\"Method with minimum rmse is \"+methods[min_index]+\" which has rmse \" +str(min(rmse)))\n",
        "\n"
      ],
      "metadata": {
        "id": "8eyWm_7IzTLJ"
      },
      "execution_count": null,
      "outputs": []
    },
    {
      "cell_type": "markdown",
      "source": [
        "Now the dataset with the least RMSE score  to check the frequency of data and resample the dataset to an hourly frequency."
      ],
      "metadata": {
        "id": "bSD-48op2bNB"
      }
    },
    {
      "cell_type": "code",
      "source": [
        "df1.set_index('timestamp', inplace=True)\n",
        "\n",
        "time_diff = df.index.to_series().diff()\n",
        "data_freq = time_diff.value_counts().idxmax()\n",
        "\n",
        "print(\"Current data frequency:\", data_freq)\n",
        "\n",
        "df_hourly = df1.resample('H').mean()\n",
        "\n",
        "print(df_hourly)\n",
        "df1=df_hourly.copy()\n"
      ],
      "metadata": {
        "id": "JxR-yhZI2b_o"
      },
      "execution_count": null,
      "outputs": []
    },
    {
      "cell_type": "markdown",
      "source": [
        "Draw box plot, boxen plot, lag plot and write your conclusions about outliers (in your own language). Define iqr_outliers() function for this data, and find the outliers. Compute z-score and plot z-score as discussed in the notebooks. "
      ],
      "metadata": {
        "id": "lnc-Mm9X2fal"
      }
    },
    {
      "cell_type": "code",
      "source": [
        "\n",
        "\n",
        "plt.figure(figsize=(8, 6))\n",
        "sns.boxplot(data=df1, y='temperature')\n",
        "plt.title('Box Plot - Temperature')\n",
        "plt.show()\n",
        "\n",
        "plt.figure(figsize=(8, 6))\n",
        "sns.boxenplot(data=df1, y='temperature')\n",
        "plt.title('Boxen Plot - Temperature')\n",
        "plt.show()\n",
        "\n",
        "plt.figure(figsize=(8, 6))\n",
        "lag_plot(df1['temperature'])\n",
        "plt.title('Lag Plot - Temperature')\n",
        "plt.show()\n",
        "\n",
        "\n",
        "def iqr_outliers(data):\n",
        "    q1 = np.percentile(data, 25)\n",
        "    q3 = np.percentile(data, 75)\n",
        "    iqr = q3 - q1\n",
        "    lower_bound = q1 - 1.5 * iqr\n",
        "    upper_bound = q3 + 1.5 * iqr\n",
        "    outliers = data[(data < lower_bound) | (data > upper_bound)]\n",
        "    return outliers\n",
        "\n",
        "outliers_iqr = iqr_outliers(df1['temperature'])\n",
        "print(\"Outliers (IQR method):\")\n",
        "print(outliers_iqr)\n",
        "\n",
        "\n",
        "z_scores = (df['temperature'] - df['temperature'].mean()) / df['temperature'].std()\n",
        "\n",
        "plt.figure(figsize=(8, 6))\n",
        "plt.plot(z_scores)\n",
        "plt.axhline(y=0, color='r', linestyle='--')\n",
        "plt.title('Z-Score Plot')\n",
        "plt.xlabel('Index')\n",
        "plt.ylabel('Z-Score')\n",
        "plt.show()"
      ],
      "metadata": {
        "id": "qRd1Uqui_EFB"
      },
      "execution_count": null,
      "outputs": []
    }
  ]
}