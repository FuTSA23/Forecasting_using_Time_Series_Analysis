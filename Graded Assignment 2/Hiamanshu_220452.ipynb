{
  "nbformat": 4,
  "nbformat_minor": 0,
  "metadata": {
    "colab": {
      "provenance": []
    },
    "kernelspec": {
      "name": "python3",
      "display_name": "Python 3"
    },
    "language_info": {
      "name": "python"
    }
  },
  "cells": [
    {
      "cell_type": "markdown",
      "source": [
        "Read the machine_temp_failure_missing.csv dataset into a Pandas DataFrame, must use PathLib. Inspect the dataset, and look for missing values if there are any. Find statistics such as mean, max, min. Rename the value column to temperature. "
      ],
      "metadata": {
        "id": "Hz-mk4FQxUjv"
      }
    },
    {
      "cell_type": "code",
      "source": [
        "import pandas as pd\n",
        "from pathlib import Path\n",
        "filepath = Path('/Users/Himanshu/Desktop/machine_temp_failure_missing.csv')\n",
        "df = pd.read_csv(filepath)\n",
        "missing_values_count = df.isnull().sum()\n",
        "print(df)\n",
        "print(missing_values_count)\n",
        "print(df.value.min())\n",
        "print(df.value.max())\n",
        "print(df.value.mean())\n",
        "df = df.rename(columns={'value':'temperature'})\n",
        "print(df)\n",
        "\n",
        "\n"
      ],
      "metadata": {
        "id": "uhMXBa7RlhSC"
      },
      "execution_count": null,
      "outputs": []
    },
    {
      "cell_type": "markdown",
      "source": [
        "Create a new feature delta_temperature which would be temp[i+1] - temp[i] where i is in range(Index). The feature represents the difference between consecutive temperature values. \n"
      ],
      "metadata": {
        "id": "TT21jt73-cPv"
      }
    },
    {
      "cell_type": "code",
      "source": [
        "import pandas as pd\n",
        "from pathlib import Path\n",
        "filepath = Path('/Users/Himanshu/Desktop/machine_temp_failure_missing.csv')\n",
        "df = pd.read_csv(filepath)\n",
        "\n",
        "df['next_temperature'] = df['temperature'].shift(1)\n",
        "df['delta_temperature'] = df['temperature'] - df['next_temperature']\n",
        "df = df.drop('next_temperature', axis=1)\n",
        "print(df.head())"
      ],
      "metadata": {
        "id": "SCg8_8DkloId"
      },
      "execution_count": null,
      "outputs": []
    },
    {
      "cell_type": "markdown",
      "source": [
        "Generate two separate plots for temperature and delta_temperature using  matplotlib."
      ],
      "metadata": {
        "id": "sUVR6R7K8UwX"
      }
    },
    {
      "cell_type": "code",
      "source": [
        "import matplotlib.pyplot as plt\n",
        "plt.plot(df.index, df['temperature'])\n",
        "plt.xlabel('index')\n",
        "plt.ylabel('temperature')\n",
        "plt.title('Temperature data')\n",
        "plt.show()\n",
        "\n",
        "\n",
        "plt.plot(df.index, df['delta_temperature'])\n",
        "plt.xlabel('index')\n",
        "plt.ylabel('delta_temperature')\n",
        "plt.title('Delta_temperature data')\n",
        "plt.show()"
      ],
      "metadata": {
        "id": "CeqIvmDu-bFP"
      },
      "execution_count": null,
      "outputs": []
    },
    {
      "cell_type": "markdown",
      "source": [
        "Generate a plot in which temperature values greater than 70.00 are marked as red, and those below 70.00 are marked as blue. \n"
      ],
      "metadata": {
        "id": "YFUU7QAbG5Wg"
      }
    },
    {
      "cell_type": "code",
      "source": [
        "mask = df['temperature'] > 70.00\n",
        "plt.scatter(df.index, df['temperature'], c=mask, cmap='bwr')\n",
        "plt.xlabel('Index')\n",
        "plt.ylabel('Temperature')\n",
        "plt.title('Temperature Plot (Red: >70.00, Blue: <=70.00)')\n",
        "plt.show()"
      ],
      "metadata": {
        "id": "12vOcPxoG-hS"
      },
      "execution_count": null,
      "outputs": []
    },
    {
      "cell_type": "markdown",
      "source": [
        "Write three functions read_datasets(), plot_dfs(), rmse_score() for these datasets (as discussed in 1_4 notebook)."
      ],
      "metadata": {
        "id": "mRkBv3-nzGGl"
      }
    },
    {
      "cell_type": "code",
      "source": [
        "from math import sqrt\n",
        "\n",
        "def read_datasets():\n",
        "    df1 = pd.read_csv('/Users/Himanshu/Desktop/machine_temp_failure_original.csv')\n",
        "    df2 = pd.read_csv('/Users/Himanshu/Desktop/machine_temp_failure_missing.csv')\n",
        "    return df1, df2\n",
        "\n",
        "def plot_dfs(df1, df2):\n",
        "    plt.plot(df1['timestamp'], df1['temperature'], label='Dataset 1')\n",
        "    plt.plot(df2['timestamp'], df2['temperature'], label='Dataset 2')\n",
        "    plt.xlabel('Timestamp')\n",
        "    plt.ylabel('Temperature')\n",
        "    plt.title('Temperature Datasets')\n",
        "    plt.legend()\n",
        "    plt.show()\n",
        "\n",
        "def rmse_score(df1,df2):\n",
        "    rmse = sqrt(mean(df1['temperature']**2))\n",
        "    return rmse"
      ],
      "metadata": {
        "id": "4mgCF_k6zK3p"
      },
      "execution_count": null,
      "outputs": []
    },
    {
      "cell_type": "markdown",
      "source": [
        "Perform univariate imputation on temperature and  using Pandas (mean, ffill, bfill) and Scikit-Learn (SimpleImputer), and interpolation. Compare the RMSE score for each imputation with machine_temp_failure_original.csv  and find the method with the least RMSE score.\n"
      ],
      "metadata": {
        "id": "vBhynmCfzPcJ"
      }
    },
    {
      "cell_type": "code",
      "source": [
        "import numpy as np\n",
        "from sklearn.impute import SimpleImputer\n",
        "df['temperature_mean'] = df['temperature'].fillna(df['temperature'].mean())\n",
        "\n",
        "df['temperature_ffill'] = df['temperature'].fillna(method='ffill')\n",
        "\n",
        "df['temperature_bfill'] = df['temperature'].fillna(method='bfill')\n",
        "\n",
        "imputer_mean = SimpleImputer(strategy='mean')\n",
        "df['temperature_imputed_mean'] = imputer_mean.fit_transform(df[['temperature']])\n",
        "\n",
        "imputer_ffill = SimpleImputer(strategy='constant', fill_value=np.nan)\n",
        "df['temperature_imputed_ffill'] = imputer_ffill.fit_transform(df[['temperature']])\n",
        "\n",
        "imputer_bfill = SimpleImputer(strategy='constant', fill_value=np.nan)\n",
        "df['temperature_imputed_bfill'] = imputer_bfill.fit_transform(df[['temperature']])\n",
        "\n",
        "df['temperature_interpolated'] = df['temperature'].interpolate()\n",
        "print(df.head())\n",
        "\n",
        "\n",
        "from sklearn.metrics import mean_squared_error\n",
        "\n",
        "rmse_scores = {}\n",
        "\n",
        "df_mean = df[['temperature', 'temperature_mean']].dropna()\n",
        "rmse_mean = sqrt(mean_squared_error(df_mean['temperature'], df_mean['temperature_mean']))\n",
        "rmse_scores['Mean'] = rmse_mean\n",
        "\n",
        "df_ffill = df[['temperature', 'temperature_ffill']].dropna()\n",
        "rmse_ffill = sqrt(mean_squared_error(df_ffill['temperature'], df_ffill['temperature_ffill']))\n",
        "rmse_scores['Forward Fill'] = rmse_ffill\n",
        "\n",
        "df_bfill = df[['temperature', 'temperature_bfill']].dropna()\n",
        "rmse_bfill = sqrt(mean_squared_error(df_bfill['temperature'], df_bfill['temperature_bfill']))\n",
        "rmse_scores['Backward Fill'] = rmse_bfill\n",
        "\n",
        "imputer_mean = SimpleImputer(strategy='mean')\n",
        "df_imputed_mean = pd.DataFrame(imputer_mean.fit_transform(df[['temperature']]), columns=['temperature_imputed_mean'])\n",
        "df_imputed_mean = pd.concat([df['temperature'], df_imputed_mean], axis=1).dropna()\n",
        "rmse_imputed_mean = sqrt(mean_squared_error(df_imputed_mean['temperature'], df_imputed_mean['temperature_imputed_mean']))\n",
        "rmse_scores['Mean Imputer'] = rmse_imputed_mean\n",
        "\n",
        "imputer_ffill = SimpleImputer(strategy='constant', fill_value=np.nan)\n",
        "df_imputed_ffill = pd.DataFrame(imputer_ffill.fit_transform(df[['temperature']]), columns=['temperature_imputed_ffill'])\n",
        "df_imputed_ffill = pd.concat([df['temperature'], df_imputed_ffill], axis=1).dropna()\n",
        "rmse_imputed_ffill = sqrt(mean_squared_error(df_imputed_ffill['temperature'], df_imputed_ffill['temperature_imputed_ffill']))\n",
        "rmse_scores['Forward Fill Imputer'] = rmse_imputed_ffill\n",
        "\n",
        "imputer_bfill = SimpleImputer(strategy='constant', fill_value=np.nan)\n",
        "df_imputed_bfill = pd.DataFrame(imputer_bfill.fit_transform(df[['temperature']]), columns=['temperature_imputed_bfill'])\n",
        "df_imputed_bfill = pd.concat([df['temperature'], df_imputed_bfill], axis=1).dropna()\n",
        "rmse_imputed_bfill = sqrt(mean_squared_error(df_imputed_bfill['temperature'], df_imputed_bfill['temperature_imputed_bfill']))\n",
        "rmse_scores['Backward Fill Imputer'] = rmse_imputed_bfill\n",
        "\n",
        "df_interpolated = df[['temperature', 'temperature_interpolated']].dropna()\n",
        "rmse_interpolation = sqrt(mean_squared_error(df_interpolated['temperature'], df_interpolated['temperature_interpolated']))\n",
        "rmse_scores['Interpolation'] = rmse_interpolation\n",
        "\n",
        "method_with_least_rmse = min(rmse_scores, key=rmse_scores.get)\n",
        "least_rmse_score = rmse_scores[method_with_least_rmse]\n",
        "\n",
        "print(\"RMSE Scores:\")\n",
        "for method, rmse in rmse_scores.items():\n",
        "    print(f\"{method}: {rmse}\")\n",
        "\n",
        "print(f\"\\nMethod with the least RMSE score: {method_with_least_rmse} (RMSE: {least_rmse_score})\")\n",
        "\n"
      ],
      "metadata": {
        "id": "8eyWm_7IzTLJ"
      },
      "execution_count": null,
      "outputs": []
    },
    {
      "cell_type": "markdown",
      "source": [
        "Now the dataset with the least RMSE score  to check the frequency of data and resample the dataset to an hourly frequency."
      ],
      "metadata": {
        "id": "bSD-48op2bNB"
      }
    },
    {
      "cell_type": "code",
      "source": [
        "df['timestamp'] = pd.to_datetime(df['timestamp'], format = \"%d-%m-%Y %H:%M\")\n",
        "df.set_index('timestamp',inplace = True)\n",
        "df_resampled = df.resample('H').mean()\n",
        "\n",
        "frequency = pd.infer_freq(df_resampled.index)\n",
        "print(\"Data frequency:\", frequency)\n",
        "\n",
        "print(\"\\nResampled Dataset:\")\n",
        "print(df_resampled.head())\n"
      ],
      "metadata": {
        "id": "JxR-yhZI2b_o"
      },
      "execution_count": null,
      "outputs": []
    },
    {
      "cell_type": "markdown",
      "source": [
        "Draw box plot, boxen plot, lag plot and write your conclusions about outliers (in your own language). Define iqr_outliers() function for this data, and find the outliers. Compute z-score and plot z-score as discussed in the notebooks. "
      ],
      "metadata": {
        "id": "lnc-Mm9X2fal"
      }
    },
    {
      "cell_type": "code",
      "source": [
        "import seaborn as sns\n",
        "\n",
        "plt.figure(figsize=(8, 6))\n",
        "sns.boxplot(data=df, y='temperature')\n",
        "plt.title('Box Plot - Temperature')\n",
        "plt.show()\n",
        "\n",
        "plt.figure(figsize=(8, 6))\n",
        "sns.boxenplot(data=df, y='temperature')\n",
        "plt.title('Boxen Plot - Temperature')\n",
        "plt.show()\n",
        "\n",
        "plt.figure(figsize=(8, 6))\n",
        "sns.lag_plot(df['temperature'])\n",
        "plt.title('Lag Plot - Temperature')\n",
        "plt.show()\n",
        "\n",
        "\n",
        "def iqr_outliers(data):\n",
        "    q1 = np.percentile(data, 25)\n",
        "    q3 = np.percentile(data, 75)\n",
        "    iqr = q3 - q1\n",
        "    lower_bound = q1 - 1.5 * iqr\n",
        "    upper_bound = q3 + 1.5 * iqr\n",
        "    outliers = data[(data < lower_bound) | (data > upper_bound)]\n",
        "    return outliers\n",
        "\n",
        "outliers_iqr = iqr_outliers(df['temperature'])\n",
        "print(\"Outliers (IQR method):\")\n",
        "print(outliers_iqr)\n",
        "\n",
        "\n",
        "z_scores = (df['temperature'] - df['temperature'].mean()) / df['temperature'].std()\n",
        "\n",
        "plt.figure(figsize=(8, 6))\n",
        "plt.plot(z_scores)\n",
        "plt.axhline(y=0, color='r', linestyle='--')\n",
        "plt.title('Z-Score Plot')\n",
        "plt.xlabel('Index')\n",
        "plt.ylabel('Z-Score')\n",
        "plt.show()"
      ],
      "metadata": {
        "id": "qRd1Uqui_EFB"
      },
      "execution_count": null,
      "outputs": []
    }
  ]
}