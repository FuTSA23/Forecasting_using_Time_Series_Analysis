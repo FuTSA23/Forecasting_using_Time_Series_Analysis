{
 "cells": [
  {
   "cell_type": "markdown",
   "id": "951d0727",
   "metadata": {},
   "source": [
    "# <p style=\"text-align: center;\">Assignment 2 - FuTSA</p>"
   ]
  },
  {
   "cell_type": "code",
   "execution_count": 227,
   "id": "29fc7139",
   "metadata": {},
   "outputs": [],
   "source": [
    "## Importing Libraries\n",
    "import pandas as pd\n",
    "from pathlib import Path\n",
    "import matplotlib.pyplot as plt\n",
    "import numpy as np\n",
    "import numpy.ma as ma\n",
    "from sklearn.impute import SimpleImputer\n",
    "from sklearn.metrics import mean_squared_error\n",
    "import seaborn as sns\n",
    "\n",
    "%matplotlib inline"
   ]
  },
  {
   "cell_type": "markdown",
   "id": "b1768012",
   "metadata": {},
   "source": [
    "#### Read the machine_temp_failure_missing.csv dataset into a Pandas DataFrame, must use PathLib. Inspect the dataset, and look for missing values if there are any. Find statistics such as mean, max, min. Rename the value column to temperature. "
   ]
  },
  {
   "cell_type": "code",
   "execution_count": 199,
   "id": "0fa781ff",
   "metadata": {},
   "outputs": [],
   "source": [
    "## Storing all paths in a list\n",
    "path = []\n",
    "p = Path('.')\n",
    "\n",
    "for f in p.glob('*'):\n",
    "    path.append(f)"
   ]
  },
  {
   "cell_type": "code",
   "execution_count": 94,
   "id": "06cee636",
   "metadata": {},
   "outputs": [],
   "source": [
    "# df = df.rename({\"value\":\"temperature\"},axis=1)\n",
    "def rename(df_):\n",
    "    df_ = df_.rename({\"value\":\"temperature\"},axis=1)\n",
    "    \n",
    "    return df_"
   ]
  },
  {
   "cell_type": "code",
   "execution_count": 257,
   "id": "068b113d",
   "metadata": {},
   "outputs": [],
   "source": [
    "## Loading Data and Renaming column\n",
    "df = pd.read_csv(path[2], parse_dates=['timestamp'], index_col='timestamp')\n",
    "df_W = pd.read_csv(path[3], parse_dates=['timestamp'], index_col='timestamp')\n",
    "df_W = rename(df_W)"
   ]
  },
  {
   "cell_type": "code",
   "execution_count": 149,
   "id": "ee0cdb20",
   "metadata": {},
   "outputs": [
    {
     "data": {
      "text/html": [
       "<div>\n",
       "<style scoped>\n",
       "    .dataframe tbody tr th:only-of-type {\n",
       "        vertical-align: middle;\n",
       "    }\n",
       "\n",
       "    .dataframe tbody tr th {\n",
       "        vertical-align: top;\n",
       "    }\n",
       "\n",
       "    .dataframe thead th {\n",
       "        text-align: right;\n",
       "    }\n",
       "</style>\n",
       "<table border=\"1\" class=\"dataframe\">\n",
       "  <thead>\n",
       "    <tr style=\"text-align: right;\">\n",
       "      <th></th>\n",
       "      <th>temperature</th>\n",
       "    </tr>\n",
       "    <tr>\n",
       "      <th>timestamp</th>\n",
       "      <th></th>\n",
       "    </tr>\n",
       "  </thead>\n",
       "  <tbody>\n",
       "    <tr>\n",
       "      <th>2013-02-12 21:15:00</th>\n",
       "      <td>73.967322</td>\n",
       "    </tr>\n",
       "    <tr>\n",
       "      <th>2013-02-12 21:20:00</th>\n",
       "      <td>74.935882</td>\n",
       "    </tr>\n",
       "    <tr>\n",
       "      <th>2013-02-12 21:25:00</th>\n",
       "      <td>76.124162</td>\n",
       "    </tr>\n",
       "    <tr>\n",
       "      <th>2013-02-12 21:30:00</th>\n",
       "      <td>78.140707</td>\n",
       "    </tr>\n",
       "    <tr>\n",
       "      <th>2013-02-12 21:35:00</th>\n",
       "      <td>79.329836</td>\n",
       "    </tr>\n",
       "  </tbody>\n",
       "</table>\n",
       "</div>"
      ],
      "text/plain": [
       "                     temperature\n",
       "timestamp                       \n",
       "2013-02-12 21:15:00    73.967322\n",
       "2013-02-12 21:20:00    74.935882\n",
       "2013-02-12 21:25:00    76.124162\n",
       "2013-02-12 21:30:00    78.140707\n",
       "2013-02-12 21:35:00    79.329836"
      ]
     },
     "execution_count": 149,
     "metadata": {},
     "output_type": "execute_result"
    }
   ],
   "source": [
    "df.head()"
   ]
  },
  {
   "cell_type": "code",
   "execution_count": 87,
   "id": "e0e049d2",
   "metadata": {},
   "outputs": [
    {
     "data": {
      "text/plain": [
       "value    1285\n",
       "dtype: int64"
      ]
     },
     "execution_count": 87,
     "metadata": {},
     "output_type": "execute_result"
    }
   ],
   "source": [
    "df.isnull().sum()"
   ]
  },
  {
   "cell_type": "code",
   "execution_count": 88,
   "id": "ffcf0b02",
   "metadata": {},
   "outputs": [
    {
     "data": {
      "text/html": [
       "<div>\n",
       "<style scoped>\n",
       "    .dataframe tbody tr th:only-of-type {\n",
       "        vertical-align: middle;\n",
       "    }\n",
       "\n",
       "    .dataframe tbody tr th {\n",
       "        vertical-align: top;\n",
       "    }\n",
       "\n",
       "    .dataframe thead th {\n",
       "        text-align: right;\n",
       "    }\n",
       "</style>\n",
       "<table border=\"1\" class=\"dataframe\">\n",
       "  <thead>\n",
       "    <tr style=\"text-align: right;\">\n",
       "      <th></th>\n",
       "      <th>value</th>\n",
       "    </tr>\n",
       "  </thead>\n",
       "  <tbody>\n",
       "    <tr>\n",
       "      <th>count</th>\n",
       "      <td>21410.000000</td>\n",
       "    </tr>\n",
       "    <tr>\n",
       "      <th>mean</th>\n",
       "      <td>85.968188</td>\n",
       "    </tr>\n",
       "    <tr>\n",
       "      <th>std</th>\n",
       "      <td>13.553070</td>\n",
       "    </tr>\n",
       "    <tr>\n",
       "      <th>min</th>\n",
       "      <td>2.084721</td>\n",
       "    </tr>\n",
       "    <tr>\n",
       "      <th>25%</th>\n",
       "      <td>83.082867</td>\n",
       "    </tr>\n",
       "    <tr>\n",
       "      <th>50%</th>\n",
       "      <td>89.251290</td>\n",
       "    </tr>\n",
       "    <tr>\n",
       "      <th>75%</th>\n",
       "      <td>93.910748</td>\n",
       "    </tr>\n",
       "    <tr>\n",
       "      <th>max</th>\n",
       "      <td>108.510543</td>\n",
       "    </tr>\n",
       "  </tbody>\n",
       "</table>\n",
       "</div>"
      ],
      "text/plain": [
       "              value\n",
       "count  21410.000000\n",
       "mean      85.968188\n",
       "std       13.553070\n",
       "min        2.084721\n",
       "25%       83.082867\n",
       "50%       89.251290\n",
       "75%       93.910748\n",
       "max      108.510543"
      ]
     },
     "execution_count": 88,
     "metadata": {},
     "output_type": "execute_result"
    }
   ],
   "source": [
    "df.describe()"
   ]
  },
  {
   "cell_type": "code",
   "execution_count": 95,
   "id": "c73511f9",
   "metadata": {},
   "outputs": [],
   "source": [
    "df = rename(df)"
   ]
  },
  {
   "cell_type": "markdown",
   "id": "55fab32e",
   "metadata": {},
   "source": [
    "#### Create a new feature delta_temperature which would be temp[i+1] - temp[i] where i is in range(Index). The feature represents the difference between consecutive temperature values. "
   ]
  },
  {
   "cell_type": "code",
   "execution_count": 225,
   "id": "a8cfe7f3",
   "metadata": {
    "scrolled": true
   },
   "outputs": [
    {
     "data": {
      "text/html": [
       "<div>\n",
       "<style scoped>\n",
       "    .dataframe tbody tr th:only-of-type {\n",
       "        vertical-align: middle;\n",
       "    }\n",
       "\n",
       "    .dataframe tbody tr th {\n",
       "        vertical-align: top;\n",
       "    }\n",
       "\n",
       "    .dataframe thead th {\n",
       "        text-align: right;\n",
       "    }\n",
       "</style>\n",
       "<table border=\"1\" class=\"dataframe\">\n",
       "  <thead>\n",
       "    <tr style=\"text-align: right;\">\n",
       "      <th></th>\n",
       "      <th>temperature</th>\n",
       "      <th>delta_temperature</th>\n",
       "    </tr>\n",
       "    <tr>\n",
       "      <th>timestamp</th>\n",
       "      <th></th>\n",
       "      <th></th>\n",
       "    </tr>\n",
       "  </thead>\n",
       "  <tbody>\n",
       "    <tr>\n",
       "      <th>2013-02-12 21:15:00</th>\n",
       "      <td>73.967322</td>\n",
       "      <td>NaN</td>\n",
       "    </tr>\n",
       "    <tr>\n",
       "      <th>2013-02-12 21:20:00</th>\n",
       "      <td>74.935882</td>\n",
       "      <td>0.968560</td>\n",
       "    </tr>\n",
       "    <tr>\n",
       "      <th>2013-02-12 21:25:00</th>\n",
       "      <td>76.124162</td>\n",
       "      <td>1.188280</td>\n",
       "    </tr>\n",
       "    <tr>\n",
       "      <th>2013-02-12 21:30:00</th>\n",
       "      <td>78.140707</td>\n",
       "      <td>2.016546</td>\n",
       "    </tr>\n",
       "    <tr>\n",
       "      <th>2013-02-12 21:35:00</th>\n",
       "      <td>79.329836</td>\n",
       "      <td>1.189128</td>\n",
       "    </tr>\n",
       "  </tbody>\n",
       "</table>\n",
       "</div>"
      ],
      "text/plain": [
       "                     temperature  delta_temperature\n",
       "timestamp                                          \n",
       "2013-02-12 21:15:00    73.967322                NaN\n",
       "2013-02-12 21:20:00    74.935882           0.968560\n",
       "2013-02-12 21:25:00    76.124162           1.188280\n",
       "2013-02-12 21:30:00    78.140707           2.016546\n",
       "2013-02-12 21:35:00    79.329836           1.189128"
      ]
     },
     "execution_count": 225,
     "metadata": {},
     "output_type": "execute_result"
    }
   ],
   "source": [
    "df['delta_temperature'] = df['temperature'] - df['temperature'].shift(1)\n",
    "df.head()"
   ]
  },
  {
   "cell_type": "markdown",
   "id": "b649d54c",
   "metadata": {},
   "source": [
    "#### Generate two separate plots for temperature and delta_temperature using  matplotlib.\n"
   ]
  },
  {
   "cell_type": "code",
   "execution_count": 97,
   "id": "2c7777f9",
   "metadata": {
    "scrolled": true
   },
   "outputs": [
    {
     "data": {
      "text/plain": [
       "[<matplotlib.lines.Line2D at 0x29af6e185b0>,\n",
       " <matplotlib.lines.Line2D at 0x29af45ed2e0>]"
      ]
     },
     "execution_count": 97,
     "metadata": {},
     "output_type": "execute_result"
    },
    {
     "data": {
      "image/png": "[encoded data removed]",
      "text/plain": [
       "<Figure size 432x288 with 1 Axes>"
      ]
     },
     "metadata": {
      "needs_background": "light"
     },
     "output_type": "display_data"
    }
   ],
   "source": [
    "plt.plot(df)\n",
    "# Temperature plot in Blue Color\n",
    "# Delta Temperature plot in Orange Color"
   ]
  },
  {
   "cell_type": "markdown",
   "id": "f0a369c9",
   "metadata": {},
   "source": [
    "#### Generate a plot in which temperature values greater than 70.00 are marked as red, and those below 70.00 are marked as blue. \n"
   ]
  },
  {
   "cell_type": "code",
   "execution_count": 98,
   "id": "5473e091",
   "metadata": {},
   "outputs": [],
   "source": [
    "mask = ma.masked_less(df['temperature'].to_numpy(), 70.00)"
   ]
  },
  {
   "cell_type": "code",
   "execution_count": 99,
   "id": "c08081a4",
   "metadata": {
    "scrolled": true
   },
   "outputs": [
    {
     "data": {
      "image/png": "[encoded data removed]",
      "text/plain": [
       "<Figure size 432x288 with 1 Axes>"
      ]
     },
     "metadata": {
      "needs_background": "light"
     },
     "output_type": "display_data"
    }
   ],
   "source": [
    "plt.plot(df.index,df['temperature'].to_numpy(),'b')\n",
    "plt.plot(df.index,mask,'r')\n",
    "plt.show()\n",
    "# Red represents the data points > 70 and blue vice vera"
   ]
  },
  {
   "cell_type": "markdown",
   "id": "507dadbc",
   "metadata": {},
   "source": [
    "#### Write three functions read_datasets(), plot_dfs(), rmse_score() for these datasets (as discussed in 1_4 notebook)."
   ]
  },
  {
   "cell_type": "code",
   "execution_count": 11,
   "id": "347b7b15",
   "metadata": {},
   "outputs": [],
   "source": [
    "def read_dataset(address, date_col=None):\n",
    "    df = pd.read_csv(address, \n",
    "                     index_col=date_col, \n",
    "                     parse_dates=[date_col])\n",
    "    return df"
   ]
  },
  {
   "cell_type": "code",
   "execution_count": 58,
   "id": "b1c0d449",
   "metadata": {},
   "outputs": [],
   "source": [
    "def plot_dfs(df1, df2, col, title=None, xlabel=None, ylabel=None):\n",
    "    df_missing = df2.rename(columns={col: 'temperature'})\n",
    "    \n",
    "    columns = df_missing.loc[:, 'temperature':].columns.tolist()\n",
    "    subplots_size = len(columns)\n",
    "    \n",
    "    # subplots_size = df2.shape[1]\n",
    "    fig, ax = plt.subplots(subplots_size+1, 1, sharex=True)\n",
    "    plt.subplots_adjust(hspace=0.25)\n",
    "    fig.suptitle = title \n",
    "    \n",
    "    df1[col].plot(ax=ax[0], figsize=(10, 16))\n",
    "    ax[0].set_title('Original Dataset')\n",
    "    ax[0].set_xlabel(xlabel)\n",
    "    ax[0].set_ylabel(ylabel)    \n",
    "    \n",
    "    for i, colname in enumerate(columns):\n",
    "        df_missing[colname].plot(ax=ax[i+1])\n",
    "        ax[i+1].set_title(colname)\n",
    "\n",
    "    plt.show()"
   ]
  },
  {
   "cell_type": "code",
   "execution_count": 162,
   "id": "2f2b2b2b",
   "metadata": {},
   "outputs": [],
   "source": [
    "def rmse(df_true,df_pred):\n",
    "    score = mean_squared_error(df_true,df_pred)\n",
    "    return score"
   ]
  },
  {
   "cell_type": "markdown",
   "id": "1c94a676",
   "metadata": {},
   "source": [
    "#### Perform univariate imputation on temperature and  using Pandas (mean, ffill, bfill) and Scikit-Learn (SimpleImputer), and interpolation. Compare the RMSE score for each imputation with machine_temp_failure_original.csv  and find the method with the least RMSE score.\n"
   ]
  },
  {
   "cell_type": "code",
   "execution_count": 154,
   "id": "031e6e18",
   "metadata": {},
   "outputs": [],
   "source": [
    "## Imputation Methods\n",
    "df1 = df.fillna(method='ffill')\n",
    "df2 = df.fillna(method='bfill')\n",
    "df3 = df.fillna(df.mean())"
   ]
  },
  {
   "cell_type": "code",
   "execution_count": 161,
   "id": "ed836321",
   "metadata": {},
   "outputs": [],
   "source": [
    "df_temp = pd.read_csv(path[2])\n",
    "df_temp = rename(df_temp)\n",
    "vals = df_temp['temperature'].values.reshape(-1,1)\n",
    "df_temp['temperature'] = SimpleImputer(strategy='mean').fit_transform(vals)\n",
    "df_temp['timestamp'] = pd.to_datetime(df_temp['timestamp'])\n",
    "df_temp = df_temp.set_index('timestamp')"
   ]
  },
  {
   "cell_type": "code",
   "execution_count": 163,
   "id": "1d1b80d2",
   "metadata": {
    "scrolled": true
   },
   "outputs": [
    {
     "name": "stdout",
     "output_type": "stream",
     "text": [
      "RMSE score for ffill: 6.220014314326999\n",
      "RMSE score for bfill: 34.49363916986555\n",
      "RMSE score for Mean based imputation: 15.693771410936213\n",
      "RMSE score for SimpleImputer: 15.693771410936213\n",
      "\n",
      "\n",
      "Clearly ffill is the best stratergy here hence we will move ahead with the same\n"
     ]
    }
   ],
   "source": [
    "print(\"RMSE score for ffill:\",rmse(df_W['temperature'],df1['temperature']))\n",
    "print(\"RMSE score for bfill:\",rmse(df_W['temperature'],df2['temperature']))\n",
    "print(\"RMSE score for Mean based imputation:\",rmse(df_W['temperature'],df3['temperature']))\n",
    "print(\"RMSE score for SimpleImputer:\",rmse(df_W['temperature'],df_temp['temperature']))\n",
    "print(\"\\n\")\n",
    "print(\"Clearly ffill is the best stratergy here hence we will move ahead with the same\")"
   ]
  },
  {
   "cell_type": "markdown",
   "id": "2885a232",
   "metadata": {},
   "source": [
    "#### Now the dataset with the least RMSE score  to check the frequency of data and resample the dataset to an hourly frequency. "
   ]
  },
  {
   "cell_type": "code",
   "execution_count": 143,
   "id": "69254f9a",
   "metadata": {},
   "outputs": [
    {
     "data": {
      "text/plain": [
       "temperature\n",
       "94.204409      638\n",
       "75.347879      316\n",
       "82.751587      142\n",
       "102.860002     114\n",
       "95.108901       13\n",
       "              ... \n",
       "85.774283        1\n",
       "85.774036        1\n",
       "85.773675        1\n",
       "85.771952        1\n",
       "108.510543       1\n",
       "Length: 21410, dtype: int64"
      ]
     },
     "execution_count": 143,
     "metadata": {},
     "output_type": "execute_result"
    }
   ],
   "source": [
    "df1.value_counts()"
   ]
  },
  {
   "cell_type": "code",
   "execution_count": 142,
   "id": "70589cd8",
   "metadata": {},
   "outputs": [
    {
     "data": {
      "text/plain": [
       "(array([8.0000e+00, 6.0000e+00, 2.9400e+02, 1.5300e+02, 4.8000e+02,\n",
       "        1.0200e+03, 1.7420e+03, 5.3230e+03, 1.0638e+04, 3.0310e+03]),\n",
       " array([  2.08472121,  12.72730337,  23.36988552,  34.01246768,\n",
       "         44.65504984,  55.297632  ,  65.94021416,  76.58279632,\n",
       "         87.22537848,  97.86796064, 108.5105428 ]),\n",
       " <BarContainer object of 10 artists>)"
      ]
     },
     "execution_count": 142,
     "metadata": {},
     "output_type": "execute_result"
    },
    {
     "data": {
      "image/png": "[encoded data removed]",
      "text/plain": [
       "<Figure size 432x288 with 1 Axes>"
      ]
     },
     "metadata": {
      "needs_background": "light"
     },
     "output_type": "display_data"
    }
   ],
   "source": [
    "## frequency distribution of data\n",
    "plt.hist(df1)"
   ]
  },
  {
   "cell_type": "code",
   "execution_count": 256,
   "id": "7b476af5",
   "metadata": {},
   "outputs": [
    {
     "data": {
      "text/html": [
       "<div>\n",
       "<style scoped>\n",
       "    .dataframe tbody tr th:only-of-type {\n",
       "        vertical-align: middle;\n",
       "    }\n",
       "\n",
       "    .dataframe tbody tr th {\n",
       "        vertical-align: top;\n",
       "    }\n",
       "\n",
       "    .dataframe thead th {\n",
       "        text-align: right;\n",
       "    }\n",
       "</style>\n",
       "<table border=\"1\" class=\"dataframe\">\n",
       "  <thead>\n",
       "    <tr style=\"text-align: right;\">\n",
       "      <th></th>\n",
       "      <th>temperature</th>\n",
       "      <th>zscores</th>\n",
       "    </tr>\n",
       "    <tr>\n",
       "      <th>timestamp</th>\n",
       "      <th></th>\n",
       "      <th></th>\n",
       "    </tr>\n",
       "  </thead>\n",
       "  <tbody>\n",
       "    <tr>\n",
       "      <th>2013-02-12 21:00:00</th>\n",
       "      <td>78.011596</td>\n",
       "      <td>-0.607432</td>\n",
       "    </tr>\n",
       "    <tr>\n",
       "      <th>2013-02-12 22:00:00</th>\n",
       "      <td>80.598012</td>\n",
       "      <td>-0.413888</td>\n",
       "    </tr>\n",
       "    <tr>\n",
       "      <th>2013-02-12 23:00:00</th>\n",
       "      <td>81.625018</td>\n",
       "      <td>-0.337036</td>\n",
       "    </tr>\n",
       "    <tr>\n",
       "      <th>2013-02-13 00:00:00</th>\n",
       "      <td>81.625018</td>\n",
       "      <td>-0.337036</td>\n",
       "    </tr>\n",
       "    <tr>\n",
       "      <th>2013-02-13 01:00:00</th>\n",
       "      <td>81.625018</td>\n",
       "      <td>-0.337036</td>\n",
       "    </tr>\n",
       "  </tbody>\n",
       "</table>\n",
       "</div>"
      ],
      "text/plain": [
       "                     temperature   zscores\n",
       "timestamp                                 \n",
       "2013-02-12 21:00:00    78.011596 -0.607432\n",
       "2013-02-12 22:00:00    80.598012 -0.413888\n",
       "2013-02-12 23:00:00    81.625018 -0.337036\n",
       "2013-02-13 00:00:00    81.625018 -0.337036\n",
       "2013-02-13 01:00:00    81.625018 -0.337036"
      ]
     },
     "execution_count": 256,
     "metadata": {},
     "output_type": "execute_result"
    }
   ],
   "source": [
    "df1 = df1.resample('H').mean().ffill()\n",
    "df1.head()"
   ]
  },
  {
   "cell_type": "markdown",
   "id": "dfd76541",
   "metadata": {},
   "source": [
    "#### Draw box plot, boxen plot, lag plot and write your conclusions about outliers (in your own language). Define iqr_outliers() function for this data, and find the outliers. Compute z-score and plot z-score as discussed in the notebooks. "
   ]
  },
  {
   "cell_type": "code",
   "execution_count": 175,
   "id": "a8094cdb",
   "metadata": {},
   "outputs": [
    {
     "data": {
      "text/plain": [
       "<AxesSubplot:xlabel='timestamp', ylabel='temperature'>"
      ]
     },
     "execution_count": 175,
     "metadata": {},
     "output_type": "execute_result"
    },
    {
     "data": {
      "image/png": "[encoded data removed]",
      "text/plain": [
       "<Figure size 432x288 with 1 Axes>"
      ]
     },
     "metadata": {
      "needs_background": "light"
     },
     "output_type": "display_data"
    },
    {
     "data": {
      "image/png": "[encoded data removed]",
      "text/plain": [
       "<Figure size 1440x360 with 1 Axes>"
      ]
     },
     "metadata": {
      "needs_background": "light"
     },
     "output_type": "display_data"
    }
   ],
   "source": [
    "## Box and Boxen Plots\n",
    "plt.boxplot(df1)\n",
    "fig, ax = plt.subplots(figsize=(20,5))\n",
    "sns.boxplot(x = df1.index.dayofyear, \n",
    "                y = df1['temperature'], \n",
    "                ax = ax)"
   ]
  },
  {
   "cell_type": "code",
   "execution_count": 180,
   "id": "ecd0eab3",
   "metadata": {},
   "outputs": [
    {
     "data": {
      "image/png": "[encoded data removed]",
      "text/plain": [
       "<Figure size 432x288 with 1 Axes>"
      ]
     },
     "metadata": {
      "needs_background": "light"
     },
     "output_type": "display_data"
    }
   ],
   "source": [
    "## Lag Plot\n",
    "pd.plotting.lag_plot(df1['temperature'],lag=1)\n",
    "plt.show()"
   ]
  },
  {
   "cell_type": "code",
   "execution_count": 187,
   "id": "5d09ff80",
   "metadata": {},
   "outputs": [],
   "source": [
    "df1['zscores'] = (df1 - df1.mean())/df1.std()"
   ]
  },
  {
   "cell_type": "code",
   "execution_count": 188,
   "id": "473d585e",
   "metadata": {},
   "outputs": [
    {
     "data": {
      "text/plain": [
       "[<matplotlib.lines.Line2D at 0x29af6d89b50>]"
      ]
     },
     "execution_count": 188,
     "metadata": {},
     "output_type": "execute_result"
    },
    {
     "data": {
      "image/png": "[encoded data removed]",
      "text/plain": [
       "<Figure size 432x288 with 1 Axes>"
      ]
     },
     "metadata": {
      "needs_background": "light"
     },
     "output_type": "display_data"
    }
   ],
   "source": [
    "plt.plot(df1['zscores'])"
   ]
  },
  {
   "cell_type": "code",
   "execution_count": 197,
   "id": "71637d8e",
   "metadata": {},
   "outputs": [
    {
     "data": {
      "text/plain": [
       "2"
      ]
     },
     "execution_count": 197,
     "metadata": {},
     "output_type": "execute_result"
    }
   ],
   "source": [
    "(df1['zscores']<-6).sum()"
   ]
  },
  {
   "cell_type": "markdown",
   "id": "c8de3f2d",
   "metadata": {},
   "source": [
    "#### From the above analysis:\n",
    "\n",
    "From Box plot and Boxen plot: \n",
    "1. Points below the whisker can be considered as the outliers.\n",
    "2. The above statment takes the fact into consideration that the values lying outside the Inter Quartile range are considered outliers.\n",
    "\n",
    "For Zscore plot:\n",
    "1. Point not following the general trend can be considered as the outliers.\n",
    "2. Adding to that for a rule of thumb points having zscore below -3 and above 3 can be considered as outliers.\n",
    "    - We dont have any points with zscore > 3\n",
    "    - Number of points having zscores less than -3, -4 -5 and -6 are 493, 294, 12 and 2 respectively."
   ]
  },
  {
   "cell_type": "code",
   "execution_count": 251,
   "id": "5934a834",
   "metadata": {},
   "outputs": [],
   "source": [
    "def iqr_outliers(data):\n",
    "    lower_fence = data['temperature'].mean() - 3*data['temperature'].std()\n",
    "    upper_fence = data['temperature'].mean() + 3*data['temperature'].std()\n",
    "    print(lower_fence)\n",
    "    return data[(data['temperature'] > upper_fence) | (data['temperature'] < lower_fence)]"
   ]
  },
  {
   "cell_type": "code",
   "execution_count": 253,
   "id": "b4f390c7",
   "metadata": {
    "scrolled": true
   },
   "outputs": [
    {
     "name": "stdout",
     "output_type": "stream",
     "text": [
      "46.03874866073629\n"
     ]
    },
    {
     "data": {
      "text/html": [
       "<div>\n",
       "<style scoped>\n",
       "    .dataframe tbody tr th:only-of-type {\n",
       "        vertical-align: middle;\n",
       "    }\n",
       "\n",
       "    .dataframe tbody tr th {\n",
       "        vertical-align: top;\n",
       "    }\n",
       "\n",
       "    .dataframe thead th {\n",
       "        text-align: right;\n",
       "    }\n",
       "</style>\n",
       "<table border=\"1\" class=\"dataframe\">\n",
       "  <thead>\n",
       "    <tr style=\"text-align: right;\">\n",
       "      <th></th>\n",
       "      <th>temperature</th>\n",
       "      <th>zscores</th>\n",
       "    </tr>\n",
       "    <tr>\n",
       "      <th>timestamp</th>\n",
       "      <th></th>\n",
       "      <th></th>\n",
       "    </tr>\n",
       "  </thead>\n",
       "  <tbody>\n",
       "    <tr>\n",
       "      <th>2013-12-16 13:30:00</th>\n",
       "      <td>45.880652</td>\n",
       "      <td>-3.011831</td>\n",
       "    </tr>\n",
       "    <tr>\n",
       "      <th>2013-12-16 13:35:00</th>\n",
       "      <td>45.933487</td>\n",
       "      <td>-3.007877</td>\n",
       "    </tr>\n",
       "    <tr>\n",
       "      <th>2013-12-16 13:45:00</th>\n",
       "      <td>45.691805</td>\n",
       "      <td>-3.025962</td>\n",
       "    </tr>\n",
       "    <tr>\n",
       "      <th>2013-12-16 13:55:00</th>\n",
       "      <td>45.665022</td>\n",
       "      <td>-3.027966</td>\n",
       "    </tr>\n",
       "    <tr>\n",
       "      <th>2013-12-16 14:00:00</th>\n",
       "      <td>45.783002</td>\n",
       "      <td>-3.019138</td>\n",
       "    </tr>\n",
       "    <tr>\n",
       "      <th>...</th>\n",
       "      <td>...</td>\n",
       "      <td>...</td>\n",
       "    </tr>\n",
       "    <tr>\n",
       "      <th>2014-09-02 11:35:00</th>\n",
       "      <td>31.086225</td>\n",
       "      <td>-4.118916</td>\n",
       "    </tr>\n",
       "    <tr>\n",
       "      <th>2014-09-02 11:40:00</th>\n",
       "      <td>30.938861</td>\n",
       "      <td>-4.129943</td>\n",
       "    </tr>\n",
       "    <tr>\n",
       "      <th>2014-09-02 11:45:00</th>\n",
       "      <td>30.975528</td>\n",
       "      <td>-4.127199</td>\n",
       "    </tr>\n",
       "    <tr>\n",
       "      <th>2014-09-02 11:50:00</th>\n",
       "      <td>35.624129</td>\n",
       "      <td>-3.779339</td>\n",
       "    </tr>\n",
       "    <tr>\n",
       "      <th>2014-09-02 11:55:00</th>\n",
       "      <td>43.971303</td>\n",
       "      <td>-3.154710</td>\n",
       "    </tr>\n",
       "  </tbody>\n",
       "</table>\n",
       "<p>493 rows × 2 columns</p>\n",
       "</div>"
      ],
      "text/plain": [
       "                     temperature   zscores\n",
       "timestamp                                 \n",
       "2013-12-16 13:30:00    45.880652 -3.011831\n",
       "2013-12-16 13:35:00    45.933487 -3.007877\n",
       "2013-12-16 13:45:00    45.691805 -3.025962\n",
       "2013-12-16 13:55:00    45.665022 -3.027966\n",
       "2013-12-16 14:00:00    45.783002 -3.019138\n",
       "...                          ...       ...\n",
       "2014-09-02 11:35:00    31.086225 -4.118916\n",
       "2014-09-02 11:40:00    30.938861 -4.129943\n",
       "2014-09-02 11:45:00    30.975528 -4.127199\n",
       "2014-09-02 11:50:00    35.624129 -3.779339\n",
       "2014-09-02 11:55:00    43.971303 -3.154710\n",
       "\n",
       "[493 rows x 2 columns]"
      ]
     },
     "execution_count": 253,
     "metadata": {},
     "output_type": "execute_result"
    }
   ],
   "source": [
    "iqr_outliers(df1)"
   ]
  },
  {
   "cell_type": "code",
   "execution_count": 255,
   "id": "69b32412",
   "metadata": {},
   "outputs": [],
   "source": [
    "#end"
   ]
  }
 ],
 "metadata": {
  "kernelspec": {
   "display_name": "Python 3",
   "language": "python",
   "name": "python3"
  },
  "language_info": {
   "codemirror_mode": {
    "name": "ipython",
    "version": 3
   },
   "file_extension": ".py",
   "mimetype": "text/x-python",
   "name": "python",
   "nbconvert_exporter": "python",
   "pygments_lexer": "ipython3",
   "version": "3.9.4"
  }
 },
 "nbformat": 4,
 "nbformat_minor": 5
}
