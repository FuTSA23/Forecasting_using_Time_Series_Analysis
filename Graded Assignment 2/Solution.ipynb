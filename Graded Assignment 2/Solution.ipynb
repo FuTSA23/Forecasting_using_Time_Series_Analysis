{
 "cells": [
  {
   "cell_type": "markdown",
   "metadata": {},
   "source": [
    "Task 1"
   ]
  },
  {
   "cell_type": "code",
   "execution_count": 1,
   "metadata": {},
   "outputs": [
    {
     "name": "stdout",
     "output_type": "stream",
     "text": [
      "Note: you may need to restart the kernel to use updated packages.\n"
     ]
    }
   ],
   "source": [
    "%pip install pandas --quiet"
   ]
  },
  {
   "cell_type": "code",
   "execution_count": 46,
   "metadata": {},
   "outputs": [],
   "source": [
    "import pandas as pd\n",
    "from pathlib import Path"
   ]
  },
  {
   "cell_type": "code",
   "execution_count": 47,
   "metadata": {},
   "outputs": [
    {
     "data": {
      "text/html": [
       "<div>\n",
       "<style scoped>\n",
       "    .dataframe tbody tr th:only-of-type {\n",
       "        vertical-align: middle;\n",
       "    }\n",
       "\n",
       "    .dataframe tbody tr th {\n",
       "        vertical-align: top;\n",
       "    }\n",
       "\n",
       "    .dataframe thead th {\n",
       "        text-align: right;\n",
       "    }\n",
       "</style>\n",
       "<table border=\"1\" class=\"dataframe\">\n",
       "  <thead>\n",
       "    <tr style=\"text-align: right;\">\n",
       "      <th></th>\n",
       "      <th>timestamp</th>\n",
       "      <th>value</th>\n",
       "    </tr>\n",
       "  </thead>\n",
       "  <tbody>\n",
       "    <tr>\n",
       "      <th>0</th>\n",
       "      <td>02-12-2013 21:15</td>\n",
       "      <td>73.967322</td>\n",
       "    </tr>\n",
       "    <tr>\n",
       "      <th>1</th>\n",
       "      <td>02-12-2013 21:20</td>\n",
       "      <td>74.935882</td>\n",
       "    </tr>\n",
       "    <tr>\n",
       "      <th>2</th>\n",
       "      <td>02-12-2013 21:25</td>\n",
       "      <td>76.124162</td>\n",
       "    </tr>\n",
       "    <tr>\n",
       "      <th>3</th>\n",
       "      <td>02-12-2013 21:30</td>\n",
       "      <td>78.140707</td>\n",
       "    </tr>\n",
       "    <tr>\n",
       "      <th>4</th>\n",
       "      <td>02-12-2013 21:35</td>\n",
       "      <td>79.329836</td>\n",
       "    </tr>\n",
       "    <tr>\n",
       "      <th>...</th>\n",
       "      <td>...</td>\n",
       "      <td>...</td>\n",
       "    </tr>\n",
       "    <tr>\n",
       "      <th>22690</th>\n",
       "      <td>19-02-2014 15:05</td>\n",
       "      <td>98.185415</td>\n",
       "    </tr>\n",
       "    <tr>\n",
       "      <th>22691</th>\n",
       "      <td>19-02-2014 15:10</td>\n",
       "      <td>97.804168</td>\n",
       "    </tr>\n",
       "    <tr>\n",
       "      <th>22692</th>\n",
       "      <td>19-02-2014 15:15</td>\n",
       "      <td>97.135468</td>\n",
       "    </tr>\n",
       "    <tr>\n",
       "      <th>22693</th>\n",
       "      <td>19-02-2014 15:20</td>\n",
       "      <td>98.056852</td>\n",
       "    </tr>\n",
       "    <tr>\n",
       "      <th>22694</th>\n",
       "      <td>19-02-2014 15:25</td>\n",
       "      <td>96.903861</td>\n",
       "    </tr>\n",
       "  </tbody>\n",
       "</table>\n",
       "<p>22695 rows × 2 columns</p>\n",
       "</div>"
      ],
      "text/plain": [
       "              timestamp      value\n",
       "0      02-12-2013 21:15  73.967322\n",
       "1      02-12-2013 21:20  74.935882\n",
       "2      02-12-2013 21:25  76.124162\n",
       "3      02-12-2013 21:30  78.140707\n",
       "4      02-12-2013 21:35  79.329836\n",
       "...                 ...        ...\n",
       "22690  19-02-2014 15:05  98.185415\n",
       "22691  19-02-2014 15:10  97.804168\n",
       "22692  19-02-2014 15:15  97.135468\n",
       "22693  19-02-2014 15:20  98.056852\n",
       "22694  19-02-2014 15:25  96.903861\n",
       "\n",
       "[22695 rows x 2 columns]"
      ]
     },
     "execution_count": 47,
     "metadata": {},
     "output_type": "execute_result"
    }
   ],
   "source": [
    "filepath=Path(\"./Datasets/machine_temp_failure_missing.csv\")\n",
    "df=pd.read_csv(filepath)\n",
    "df\n",
    "# The dataset has been read"
   ]
  },
  {
   "cell_type": "code",
   "execution_count": 48,
   "metadata": {},
   "outputs": [
    {
     "name": "stdout",
     "output_type": "stream",
     "text": [
      "<class 'pandas.core.frame.DataFrame'>\n",
      "RangeIndex: 22695 entries, 0 to 22694\n",
      "Data columns (total 2 columns):\n",
      " #   Column     Non-Null Count  Dtype  \n",
      "---  ------     --------------  -----  \n",
      " 0   timestamp  22695 non-null  object \n",
      " 1   value      21410 non-null  float64\n",
      "dtypes: float64(1), object(1)\n",
      "memory usage: 354.7+ KB\n"
     ]
    }
   ],
   "source": [
    "df.info()\n",
    "# The no. of values in both columns are not equal, indicating the presence of missing values\n",
    "\n",
    "# 1285 missing values in specific which can be obtained by the following\n",
    "df['value'].isnull().sum()\n",
    "\n",
    "# Let us find out the rows containing missing values\n",
    "df[df['value'].isnull()]\n",
    "# In all of the rows, we have NaN\n",
    "\n",
    "# Now we find all the statistics about the dataset\n",
    "mean=df['value'].mean()\n",
    "median=df['value'].median()\n",
    "mode=df['value'].mode()\n",
    "\n",
    "# We now change the name of the 'value' column to 'temperature'\n",
    "df.rename(columns={'value':'temperature'},inplace=True)\n"
   ]
  },
  {
   "cell_type": "markdown",
   "metadata": {},
   "source": [
    "Task 2"
   ]
  },
  {
   "cell_type": "code",
   "execution_count": 49,
   "metadata": {},
   "outputs": [
    {
     "data": {
      "text/html": [
       "<div>\n",
       "<style scoped>\n",
       "    .dataframe tbody tr th:only-of-type {\n",
       "        vertical-align: middle;\n",
       "    }\n",
       "\n",
       "    .dataframe tbody tr th {\n",
       "        vertical-align: top;\n",
       "    }\n",
       "\n",
       "    .dataframe thead th {\n",
       "        text-align: right;\n",
       "    }\n",
       "</style>\n",
       "<table border=\"1\" class=\"dataframe\">\n",
       "  <thead>\n",
       "    <tr style=\"text-align: right;\">\n",
       "      <th></th>\n",
       "      <th>timestamp</th>\n",
       "      <th>temperature</th>\n",
       "      <th>delta_temperature_1</th>\n",
       "      <th>delta_temperature_2</th>\n",
       "    </tr>\n",
       "  </thead>\n",
       "  <tbody>\n",
       "    <tr>\n",
       "      <th>0</th>\n",
       "      <td>02-12-2013 21:15</td>\n",
       "      <td>73.967322</td>\n",
       "      <td>NaN</td>\n",
       "      <td>0.968560</td>\n",
       "    </tr>\n",
       "    <tr>\n",
       "      <th>1</th>\n",
       "      <td>02-12-2013 21:20</td>\n",
       "      <td>74.935882</td>\n",
       "      <td>0.968560</td>\n",
       "      <td>1.188280</td>\n",
       "    </tr>\n",
       "    <tr>\n",
       "      <th>2</th>\n",
       "      <td>02-12-2013 21:25</td>\n",
       "      <td>76.124162</td>\n",
       "      <td>1.188280</td>\n",
       "      <td>2.016546</td>\n",
       "    </tr>\n",
       "    <tr>\n",
       "      <th>3</th>\n",
       "      <td>02-12-2013 21:30</td>\n",
       "      <td>78.140707</td>\n",
       "      <td>2.016546</td>\n",
       "      <td>1.189128</td>\n",
       "    </tr>\n",
       "    <tr>\n",
       "      <th>4</th>\n",
       "      <td>02-12-2013 21:35</td>\n",
       "      <td>79.329836</td>\n",
       "      <td>1.189128</td>\n",
       "      <td>-0.619417</td>\n",
       "    </tr>\n",
       "    <tr>\n",
       "      <th>...</th>\n",
       "      <td>...</td>\n",
       "      <td>...</td>\n",
       "      <td>...</td>\n",
       "      <td>...</td>\n",
       "    </tr>\n",
       "    <tr>\n",
       "      <th>22690</th>\n",
       "      <td>19-02-2014 15:05</td>\n",
       "      <td>98.185415</td>\n",
       "      <td>NaN</td>\n",
       "      <td>-0.381246</td>\n",
       "    </tr>\n",
       "    <tr>\n",
       "      <th>22691</th>\n",
       "      <td>19-02-2014 15:10</td>\n",
       "      <td>97.804168</td>\n",
       "      <td>-0.381246</td>\n",
       "      <td>-0.668700</td>\n",
       "    </tr>\n",
       "    <tr>\n",
       "      <th>22692</th>\n",
       "      <td>19-02-2014 15:15</td>\n",
       "      <td>97.135468</td>\n",
       "      <td>-0.668700</td>\n",
       "      <td>0.921384</td>\n",
       "    </tr>\n",
       "    <tr>\n",
       "      <th>22693</th>\n",
       "      <td>19-02-2014 15:20</td>\n",
       "      <td>98.056852</td>\n",
       "      <td>0.921384</td>\n",
       "      <td>-1.152991</td>\n",
       "    </tr>\n",
       "    <tr>\n",
       "      <th>22694</th>\n",
       "      <td>19-02-2014 15:25</td>\n",
       "      <td>96.903861</td>\n",
       "      <td>-1.152991</td>\n",
       "      <td>NaN</td>\n",
       "    </tr>\n",
       "  </tbody>\n",
       "</table>\n",
       "<p>22695 rows × 4 columns</p>\n",
       "</div>"
      ],
      "text/plain": [
       "              timestamp  temperature  delta_temperature_1  delta_temperature_2\n",
       "0      02-12-2013 21:15    73.967322                  NaN             0.968560\n",
       "1      02-12-2013 21:20    74.935882             0.968560             1.188280\n",
       "2      02-12-2013 21:25    76.124162             1.188280             2.016546\n",
       "3      02-12-2013 21:30    78.140707             2.016546             1.189128\n",
       "4      02-12-2013 21:35    79.329836             1.189128            -0.619417\n",
       "...                 ...          ...                  ...                  ...\n",
       "22690  19-02-2014 15:05    98.185415                  NaN            -0.381246\n",
       "22691  19-02-2014 15:10    97.804168            -0.381246            -0.668700\n",
       "22692  19-02-2014 15:15    97.135468            -0.668700             0.921384\n",
       "22693  19-02-2014 15:20    98.056852             0.921384            -1.152991\n",
       "22694  19-02-2014 15:25    96.903861            -1.152991                  NaN\n",
       "\n",
       "[22695 rows x 4 columns]"
      ]
     },
     "execution_count": 49,
     "metadata": {},
     "output_type": "execute_result"
    }
   ],
   "source": [
    "df['delta_temperature_1']=df['temperature'].diff()\n",
    "# current - previous\n",
    "\n",
    "df['delta_temperature_2']=df['temperature'].shift(-1)-df['temperature']\n",
    "# next - current\n",
    "df\n"
   ]
  },
  {
   "cell_type": "markdown",
   "metadata": {},
   "source": [
    "Task 3"
   ]
  },
  {
   "cell_type": "code",
   "execution_count": 50,
   "metadata": {},
   "outputs": [],
   "source": [
    "import matplotlib.pyplot as plt"
   ]
  },
  {
   "cell_type": "code",
   "execution_count": 51,
   "metadata": {},
   "outputs": [
    {
     "data": {
      "text/plain": [
       "Text(0.5, 1.0, 'temperature')"
      ]
     },
     "execution_count": 51,
     "metadata": {},
     "output_type": "execute_result"
    },
    {
     "data": {
      "image/png": "[encoded data removed]",
      "text/plain": [
       "<Figure size 640x480 with 1 Axes>"
      ]
     },
     "metadata": {},
     "output_type": "display_data"
    }
   ],
   "source": [
    "df['temperature'].plot()\n",
    "plt.xlim(0,1000)\n",
    "plt.title('temperature')"
   ]
  },
  {
   "cell_type": "code",
   "execution_count": 52,
   "metadata": {},
   "outputs": [
    {
     "data": {
      "text/plain": [
       "Text(0.5, 1.0, 'delta_temperature_2')"
      ]
     },
     "execution_count": 52,
     "metadata": {},
     "output_type": "execute_result"
    },
    {
     "data": {
      "image/png": "[encoded data removed]",
      "text/plain": [
       "<Figure size 640x480 with 1 Axes>"
      ]
     },
     "metadata": {},
     "output_type": "display_data"
    }
   ],
   "source": [
    "df['delta_temperature_2'].plot()\n",
    "plt.xlim(0,10)\n",
    "plt.title('delta_temperature_2')"
   ]
  },
  {
   "cell_type": "markdown",
   "metadata": {},
   "source": [
    "Task 4"
   ]
  },
  {
   "cell_type": "code",
   "execution_count": 53,
   "metadata": {},
   "outputs": [
    {
     "data": {
      "image/png": "[encoded data removed]",
      "text/plain": [
       "<Figure size 640x480 with 1 Axes>"
      ]
     },
     "metadata": {},
     "output_type": "display_data"
    }
   ],
   "source": [
    "above_threshold = df['temperature']>70\n",
    "below_threshold = df['temperature']<=70\n",
    "\n",
    "plt.scatter(df.index[above_threshold],df['temperature'][above_threshold],color='red',label='Above 70')\n",
    "plt.scatter(df.index[below_threshold],df['temperature'][below_threshold],color='blue',label='Below 70')\n",
    "\n",
    "plt.title('Temperature Plot')\n",
    "plt.xlabel('X-axis Label')\n",
    "plt.ylabel('Temperature')\n",
    "plt.legend()\n",
    "\n",
    "plt.show()"
   ]
  },
  {
   "cell_type": "markdown",
   "metadata": {},
   "source": [
    "Task 5"
   ]
  },
  {
   "cell_type": "code",
   "execution_count": 69,
   "metadata": {},
   "outputs": [],
   "source": [
    "import numpy as np\n",
    "def rmse_score(df1, df2, col=None):\n",
    "    '''\n",
    "    df1: original dataframe without missing data\n",
    "    df2: dataframe with missing data\n",
    "    col: column name that contains missing data\n",
    "\n",
    "    returns: a list of scores\n",
    "    '''\n",
    "    df_missing = df2.rename(columns={col: 'missing'})\n",
    "    columns = df_missing.loc[:, 'missing':].columns.tolist()\n",
    "    scores = []\n",
    "    for comp_col in columns[1:]:\n",
    "        rmse = np.sqrt(np.mean((df1[col] - df_missing[comp_col])**2))\n",
    "        scores.append(rmse)\n",
    "        print(f'RMSE for {comp_col}: {rmse}')\n",
    "    return scores\n"
   ]
  },
  {
   "cell_type": "code",
   "execution_count": 55,
   "metadata": {},
   "outputs": [],
   "source": [
    "def plot_dfs(df1, df2, col, title=None, xlabel=None, ylabel=None):\n",
    "    '''\t\n",
    "    df1: original dataframe without missing data\n",
    "    df2: dataframe with missing data\n",
    "    col: column name that contains missing data\n",
    "    '''    \n",
    "    df_missing = df2.rename(columns={col: 'value'})\n",
    "    \n",
    "    columns = df_missing.loc[:, 'value':].columns.tolist()\n",
    "    print(columns)\n",
    "    subplots_size = len(columns)\n",
    "    \n",
    "    # subplots_size = df2.shape[1]\n",
    "    fig, ax = plt.subplots(subplots_size+1, 1, sharex=True)\n",
    "    plt.subplots_adjust(hspace=0.25)\n",
    "    fig.suptitle = title \n",
    "    \n",
    "    df1[col].plot(ax=ax[0], figsize=(10, 16))\n",
    "    ax[0].set_title('Original Dataset')\n",
    "    ax[0].set_xlabel(xlabel)\n",
    "    ax[0].set_ylabel(ylabel)    \n",
    "    \n",
    "    for i, colname in enumerate(columns):\n",
    "        df_missing[colname].plot(ax=ax[i+1])\n",
    "        ax[i+1].set_title(colname)\n",
    "\n",
    "    plt.show()\n"
   ]
  },
  {
   "cell_type": "code",
   "execution_count": 43,
   "metadata": {},
   "outputs": [],
   "source": [
    "def read_dataset(folder, file, date_col=None):\n",
    "    '''\n",
    "    folder: is a Path object\n",
    "    file: the CSV filename in that Path object. \n",
    "    date_col: specify a date_col to use as index_col \n",
    "    \n",
    "    returns: a pandas DataFrame with a DatetimeIndex\n",
    "    '''\n",
    "    df = pd.read_csv(folder / file, \n",
    "                     index_col=date_col, \n",
    "                     parse_dates=[date_col])\n",
    "    return df\n"
   ]
  },
  {
   "cell_type": "markdown",
   "metadata": {},
   "source": [
    "Task 6"
   ]
  },
  {
   "cell_type": "code",
   "execution_count": 63,
   "metadata": {},
   "outputs": [
    {
     "data": {
      "text/html": [
       "<div>\n",
       "<style scoped>\n",
       "    .dataframe tbody tr th:only-of-type {\n",
       "        vertical-align: middle;\n",
       "    }\n",
       "\n",
       "    .dataframe tbody tr th {\n",
       "        vertical-align: top;\n",
       "    }\n",
       "\n",
       "    .dataframe thead th {\n",
       "        text-align: right;\n",
       "    }\n",
       "</style>\n",
       "<table border=\"1\" class=\"dataframe\">\n",
       "  <thead>\n",
       "    <tr style=\"text-align: right;\">\n",
       "      <th></th>\n",
       "      <th>value</th>\n",
       "    </tr>\n",
       "    <tr>\n",
       "      <th>timestamp</th>\n",
       "      <th></th>\n",
       "    </tr>\n",
       "  </thead>\n",
       "  <tbody>\n",
       "    <tr>\n",
       "      <th>2013-12-02 21:15:00</th>\n",
       "      <td>73.967322</td>\n",
       "    </tr>\n",
       "    <tr>\n",
       "      <th>2013-12-02 21:20:00</th>\n",
       "      <td>74.935882</td>\n",
       "    </tr>\n",
       "    <tr>\n",
       "      <th>2013-12-02 21:25:00</th>\n",
       "      <td>76.124162</td>\n",
       "    </tr>\n",
       "    <tr>\n",
       "      <th>2013-12-02 21:30:00</th>\n",
       "      <td>78.140707</td>\n",
       "    </tr>\n",
       "    <tr>\n",
       "      <th>2013-12-02 21:35:00</th>\n",
       "      <td>79.329836</td>\n",
       "    </tr>\n",
       "    <tr>\n",
       "      <th>...</th>\n",
       "      <td>...</td>\n",
       "    </tr>\n",
       "    <tr>\n",
       "      <th>2014-02-19 15:05:00</th>\n",
       "      <td>98.185415</td>\n",
       "    </tr>\n",
       "    <tr>\n",
       "      <th>2014-02-19 15:10:00</th>\n",
       "      <td>97.804168</td>\n",
       "    </tr>\n",
       "    <tr>\n",
       "      <th>2014-02-19 15:15:00</th>\n",
       "      <td>97.135468</td>\n",
       "    </tr>\n",
       "    <tr>\n",
       "      <th>2014-02-19 15:20:00</th>\n",
       "      <td>98.056852</td>\n",
       "    </tr>\n",
       "    <tr>\n",
       "      <th>2014-02-19 15:25:00</th>\n",
       "      <td>96.903861</td>\n",
       "    </tr>\n",
       "  </tbody>\n",
       "</table>\n",
       "<p>22695 rows × 1 columns</p>\n",
       "</div>"
      ],
      "text/plain": [
       "                         value\n",
       "timestamp                     \n",
       "2013-12-02 21:15:00  73.967322\n",
       "2013-12-02 21:20:00  74.935882\n",
       "2013-12-02 21:25:00  76.124162\n",
       "2013-12-02 21:30:00  78.140707\n",
       "2013-12-02 21:35:00  79.329836\n",
       "...                        ...\n",
       "2014-02-19 15:05:00  98.185415\n",
       "2014-02-19 15:10:00  97.804168\n",
       "2014-02-19 15:15:00  97.135468\n",
       "2014-02-19 15:20:00  98.056852\n",
       "2014-02-19 15:25:00  96.903861\n",
       "\n",
       "[22695 rows x 1 columns]"
      ]
     },
     "execution_count": 63,
     "metadata": {},
     "output_type": "execute_result"
    }
   ],
   "source": [
    "folder=Path('./Datasets/')\n",
    "dfa=read_dataset(folder,'machine_temp_failure_original.csv','timestamp')\n",
    "dfb=read_dataset(folder,'machine_temp_failure_missing.csv','timestamp')\n",
    "dfa"
   ]
  },
  {
   "cell_type": "code",
   "execution_count": 70,
   "metadata": {},
   "outputs": [],
   "source": [
    "dfb['ffill']=dfb['value'].fillna(method='ffill')\n",
    "dfb['bfill']=dfb['value'].fillna(method='bfill')\n",
    "dfb['mean']=dfb['value'].fillna(dfb['value'].mean())"
   ]
  },
  {
   "cell_type": "code",
   "execution_count": 71,
   "metadata": {},
   "outputs": [
    {
     "name": "stdout",
     "output_type": "stream",
     "text": [
      "RMSE for ffill: nan\n",
      "RMSE for bfill: nan\n",
      "RMSE for mean: nan\n"
     ]
    }
   ],
   "source": [
    "_ = rmse_score(dfa,dfb,'value')"
   ]
  }
 ],
 "metadata": {
  "kernelspec": {
   "display_name": "Python 3",
   "language": "python",
   "name": "python3"
  },
  "language_info": {
   "codemirror_mode": {
    "name": "ipython",
    "version": 3
   },
   "file_extension": ".py",
   "mimetype": "text/x-python",
   "name": "python",
   "nbconvert_exporter": "python",
   "pygments_lexer": "ipython3",
   "version": "3.11.4"
  },
  "orig_nbformat": 4
 },
 "nbformat": 4,
 "nbformat_minor": 2
}
