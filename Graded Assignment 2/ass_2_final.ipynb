{
 "cells": [
  {
   "cell_type": "code",
   "execution_count": 1,
   "id": "a639aedd",
   "metadata": {},
   "outputs": [],
   "source": [
    "import pandas as pd\n",
    "from pathlib import Path\n",
    "import numpy as np"
   ]
  },
  {
   "cell_type": "code",
   "execution_count": 2,
   "id": "653a3482",
   "metadata": {},
   "outputs": [
    {
     "data": {
      "text/html": [
       "<div>\n",
       "<style scoped>\n",
       "    .dataframe tbody tr th:only-of-type {\n",
       "        vertical-align: middle;\n",
       "    }\n",
       "\n",
       "    .dataframe tbody tr th {\n",
       "        vertical-align: top;\n",
       "    }\n",
       "\n",
       "    .dataframe thead th {\n",
       "        text-align: right;\n",
       "    }\n",
       "</style>\n",
       "<table border=\"1\" class=\"dataframe\">\n",
       "  <thead>\n",
       "    <tr style=\"text-align: right;\">\n",
       "      <th></th>\n",
       "      <th>timestamp</th>\n",
       "      <th>value</th>\n",
       "    </tr>\n",
       "  </thead>\n",
       "  <tbody>\n",
       "    <tr>\n",
       "      <th>0</th>\n",
       "      <td>02-12-2013 21:15</td>\n",
       "      <td>73.967322</td>\n",
       "    </tr>\n",
       "    <tr>\n",
       "      <th>1</th>\n",
       "      <td>02-12-2013 21:20</td>\n",
       "      <td>74.935882</td>\n",
       "    </tr>\n",
       "    <tr>\n",
       "      <th>2</th>\n",
       "      <td>02-12-2013 21:25</td>\n",
       "      <td>76.124162</td>\n",
       "    </tr>\n",
       "    <tr>\n",
       "      <th>3</th>\n",
       "      <td>02-12-2013 21:30</td>\n",
       "      <td>78.140707</td>\n",
       "    </tr>\n",
       "    <tr>\n",
       "      <th>4</th>\n",
       "      <td>02-12-2013 21:35</td>\n",
       "      <td>79.329836</td>\n",
       "    </tr>\n",
       "    <tr>\n",
       "      <th>...</th>\n",
       "      <td>...</td>\n",
       "      <td>...</td>\n",
       "    </tr>\n",
       "    <tr>\n",
       "      <th>22690</th>\n",
       "      <td>19-02-2014 15:05</td>\n",
       "      <td>98.185415</td>\n",
       "    </tr>\n",
       "    <tr>\n",
       "      <th>22691</th>\n",
       "      <td>19-02-2014 15:10</td>\n",
       "      <td>97.804168</td>\n",
       "    </tr>\n",
       "    <tr>\n",
       "      <th>22692</th>\n",
       "      <td>19-02-2014 15:15</td>\n",
       "      <td>97.135468</td>\n",
       "    </tr>\n",
       "    <tr>\n",
       "      <th>22693</th>\n",
       "      <td>19-02-2014 15:20</td>\n",
       "      <td>98.056852</td>\n",
       "    </tr>\n",
       "    <tr>\n",
       "      <th>22694</th>\n",
       "      <td>19-02-2014 15:25</td>\n",
       "      <td>96.903861</td>\n",
       "    </tr>\n",
       "  </tbody>\n",
       "</table>\n",
       "<p>22695 rows × 2 columns</p>\n",
       "</div>"
      ],
      "text/plain": [
       "              timestamp      value\n",
       "0      02-12-2013 21:15  73.967322\n",
       "1      02-12-2013 21:20  74.935882\n",
       "2      02-12-2013 21:25  76.124162\n",
       "3      02-12-2013 21:30  78.140707\n",
       "4      02-12-2013 21:35  79.329836\n",
       "...                 ...        ...\n",
       "22690  19-02-2014 15:05  98.185415\n",
       "22691  19-02-2014 15:10  97.804168\n",
       "22692  19-02-2014 15:15  97.135468\n",
       "22693  19-02-2014 15:20  98.056852\n",
       "22694  19-02-2014 15:25  96.903861\n",
       "\n",
       "[22695 rows x 2 columns]"
      ]
     },
     "execution_count": 2,
     "metadata": {},
     "output_type": "execute_result"
    }
   ],
   "source": [
    "file_path = Path(\"/Users/vivekvijay/Downloads/machine_temp_failure_missing.csv\")\n",
    "df = pd.read_csv(file_path)\n",
    "df"
   ]
  },
  {
   "cell_type": "code",
   "execution_count": 3,
   "id": "7d332df3",
   "metadata": {},
   "outputs": [
    {
     "name": "stdout",
     "output_type": "stream",
     "text": [
      "<class 'pandas.core.frame.DataFrame'>\n",
      "RangeIndex: 22695 entries, 0 to 22694\n",
      "Data columns (total 2 columns):\n",
      " #   Column     Non-Null Count  Dtype  \n",
      "---  ------     --------------  -----  \n",
      " 0   timestamp  22695 non-null  object \n",
      " 1   value      21410 non-null  float64\n",
      "dtypes: float64(1), object(1)\n",
      "memory usage: 354.7+ KB\n"
     ]
    }
   ],
   "source": [
    "df.info()"
   ]
  },
  {
   "cell_type": "code",
   "execution_count": 4,
   "id": "b044233b",
   "metadata": {},
   "outputs": [
    {
     "data": {
      "text/html": [
       "<div>\n",
       "<style scoped>\n",
       "    .dataframe tbody tr th:only-of-type {\n",
       "        vertical-align: middle;\n",
       "    }\n",
       "\n",
       "    .dataframe tbody tr th {\n",
       "        vertical-align: top;\n",
       "    }\n",
       "\n",
       "    .dataframe thead th {\n",
       "        text-align: right;\n",
       "    }\n",
       "</style>\n",
       "<table border=\"1\" class=\"dataframe\">\n",
       "  <thead>\n",
       "    <tr style=\"text-align: right;\">\n",
       "      <th></th>\n",
       "      <th>value</th>\n",
       "    </tr>\n",
       "  </thead>\n",
       "  <tbody>\n",
       "    <tr>\n",
       "      <th>count</th>\n",
       "      <td>21410.000000</td>\n",
       "    </tr>\n",
       "    <tr>\n",
       "      <th>mean</th>\n",
       "      <td>85.968188</td>\n",
       "    </tr>\n",
       "    <tr>\n",
       "      <th>std</th>\n",
       "      <td>13.553070</td>\n",
       "    </tr>\n",
       "    <tr>\n",
       "      <th>min</th>\n",
       "      <td>2.084721</td>\n",
       "    </tr>\n",
       "    <tr>\n",
       "      <th>25%</th>\n",
       "      <td>83.082867</td>\n",
       "    </tr>\n",
       "    <tr>\n",
       "      <th>50%</th>\n",
       "      <td>89.251290</td>\n",
       "    </tr>\n",
       "    <tr>\n",
       "      <th>75%</th>\n",
       "      <td>93.910748</td>\n",
       "    </tr>\n",
       "    <tr>\n",
       "      <th>max</th>\n",
       "      <td>108.510543</td>\n",
       "    </tr>\n",
       "  </tbody>\n",
       "</table>\n",
       "</div>"
      ],
      "text/plain": [
       "              value\n",
       "count  21410.000000\n",
       "mean      85.968188\n",
       "std       13.553070\n",
       "min        2.084721\n",
       "25%       83.082867\n",
       "50%       89.251290\n",
       "75%       93.910748\n",
       "max      108.510543"
      ]
     },
     "execution_count": 4,
     "metadata": {},
     "output_type": "execute_result"
    }
   ],
   "source": [
    "df.describe()"
   ]
  },
  {
   "cell_type": "code",
   "execution_count": 5,
   "id": "425bd488",
   "metadata": {},
   "outputs": [
    {
     "data": {
      "text/html": [
       "<div>\n",
       "<style scoped>\n",
       "    .dataframe tbody tr th:only-of-type {\n",
       "        vertical-align: middle;\n",
       "    }\n",
       "\n",
       "    .dataframe tbody tr th {\n",
       "        vertical-align: top;\n",
       "    }\n",
       "\n",
       "    .dataframe thead th {\n",
       "        text-align: right;\n",
       "    }\n",
       "</style>\n",
       "<table border=\"1\" class=\"dataframe\">\n",
       "  <thead>\n",
       "    <tr style=\"text-align: right;\">\n",
       "      <th></th>\n",
       "      <th>timestamp</th>\n",
       "      <th>temperature</th>\n",
       "    </tr>\n",
       "  </thead>\n",
       "  <tbody>\n",
       "    <tr>\n",
       "      <th>0</th>\n",
       "      <td>02-12-2013 21:15</td>\n",
       "      <td>73.967322</td>\n",
       "    </tr>\n",
       "    <tr>\n",
       "      <th>1</th>\n",
       "      <td>02-12-2013 21:20</td>\n",
       "      <td>74.935882</td>\n",
       "    </tr>\n",
       "    <tr>\n",
       "      <th>2</th>\n",
       "      <td>02-12-2013 21:25</td>\n",
       "      <td>76.124162</td>\n",
       "    </tr>\n",
       "    <tr>\n",
       "      <th>3</th>\n",
       "      <td>02-12-2013 21:30</td>\n",
       "      <td>78.140707</td>\n",
       "    </tr>\n",
       "    <tr>\n",
       "      <th>4</th>\n",
       "      <td>02-12-2013 21:35</td>\n",
       "      <td>79.329836</td>\n",
       "    </tr>\n",
       "    <tr>\n",
       "      <th>...</th>\n",
       "      <td>...</td>\n",
       "      <td>...</td>\n",
       "    </tr>\n",
       "    <tr>\n",
       "      <th>22690</th>\n",
       "      <td>19-02-2014 15:05</td>\n",
       "      <td>98.185415</td>\n",
       "    </tr>\n",
       "    <tr>\n",
       "      <th>22691</th>\n",
       "      <td>19-02-2014 15:10</td>\n",
       "      <td>97.804168</td>\n",
       "    </tr>\n",
       "    <tr>\n",
       "      <th>22692</th>\n",
       "      <td>19-02-2014 15:15</td>\n",
       "      <td>97.135468</td>\n",
       "    </tr>\n",
       "    <tr>\n",
       "      <th>22693</th>\n",
       "      <td>19-02-2014 15:20</td>\n",
       "      <td>98.056852</td>\n",
       "    </tr>\n",
       "    <tr>\n",
       "      <th>22694</th>\n",
       "      <td>19-02-2014 15:25</td>\n",
       "      <td>96.903861</td>\n",
       "    </tr>\n",
       "  </tbody>\n",
       "</table>\n",
       "<p>22695 rows × 2 columns</p>\n",
       "</div>"
      ],
      "text/plain": [
       "              timestamp  temperature\n",
       "0      02-12-2013 21:15    73.967322\n",
       "1      02-12-2013 21:20    74.935882\n",
       "2      02-12-2013 21:25    76.124162\n",
       "3      02-12-2013 21:30    78.140707\n",
       "4      02-12-2013 21:35    79.329836\n",
       "...                 ...          ...\n",
       "22690  19-02-2014 15:05    98.185415\n",
       "22691  19-02-2014 15:10    97.804168\n",
       "22692  19-02-2014 15:15    97.135468\n",
       "22693  19-02-2014 15:20    98.056852\n",
       "22694  19-02-2014 15:25    96.903861\n",
       "\n",
       "[22695 rows x 2 columns]"
      ]
     },
     "execution_count": 5,
     "metadata": {},
     "output_type": "execute_result"
    }
   ],
   "source": [
    "df.rename(columns={\"value\": \"temperature\"},inplace = True)\n",
    "df"
   ]
  },
  {
   "cell_type": "code",
   "execution_count": 6,
   "id": "3f02950a",
   "metadata": {},
   "outputs": [
    {
     "name": "stdout",
     "output_type": "stream",
     "text": [
      "Index(['timestamp', 'temperature'], dtype='object')\n"
     ]
    }
   ],
   "source": [
    "print(df.columns)"
   ]
  },
  {
   "cell_type": "code",
   "execution_count": 7,
   "id": "bfee7da3",
   "metadata": {},
   "outputs": [
    {
     "data": {
      "text/html": [
       "<div>\n",
       "<style scoped>\n",
       "    .dataframe tbody tr th:only-of-type {\n",
       "        vertical-align: middle;\n",
       "    }\n",
       "\n",
       "    .dataframe tbody tr th {\n",
       "        vertical-align: top;\n",
       "    }\n",
       "\n",
       "    .dataframe thead th {\n",
       "        text-align: right;\n",
       "    }\n",
       "</style>\n",
       "<table border=\"1\" class=\"dataframe\">\n",
       "  <thead>\n",
       "    <tr style=\"text-align: right;\">\n",
       "      <th></th>\n",
       "      <th>timestamp</th>\n",
       "      <th>temperature</th>\n",
       "      <th>delta_temperature</th>\n",
       "    </tr>\n",
       "  </thead>\n",
       "  <tbody>\n",
       "    <tr>\n",
       "      <th>0</th>\n",
       "      <td>02-12-2013 21:15</td>\n",
       "      <td>73.967322</td>\n",
       "      <td>0.968560</td>\n",
       "    </tr>\n",
       "    <tr>\n",
       "      <th>1</th>\n",
       "      <td>02-12-2013 21:20</td>\n",
       "      <td>74.935882</td>\n",
       "      <td>1.188280</td>\n",
       "    </tr>\n",
       "    <tr>\n",
       "      <th>2</th>\n",
       "      <td>02-12-2013 21:25</td>\n",
       "      <td>76.124162</td>\n",
       "      <td>2.016546</td>\n",
       "    </tr>\n",
       "    <tr>\n",
       "      <th>3</th>\n",
       "      <td>02-12-2013 21:30</td>\n",
       "      <td>78.140707</td>\n",
       "      <td>1.189128</td>\n",
       "    </tr>\n",
       "    <tr>\n",
       "      <th>4</th>\n",
       "      <td>02-12-2013 21:35</td>\n",
       "      <td>79.329836</td>\n",
       "      <td>-0.619417</td>\n",
       "    </tr>\n",
       "    <tr>\n",
       "      <th>...</th>\n",
       "      <td>...</td>\n",
       "      <td>...</td>\n",
       "      <td>...</td>\n",
       "    </tr>\n",
       "    <tr>\n",
       "      <th>22689</th>\n",
       "      <td>19-02-2014 15:00</td>\n",
       "      <td>NaN</td>\n",
       "      <td>NaN</td>\n",
       "    </tr>\n",
       "    <tr>\n",
       "      <th>22690</th>\n",
       "      <td>19-02-2014 15:05</td>\n",
       "      <td>98.185415</td>\n",
       "      <td>-0.381246</td>\n",
       "    </tr>\n",
       "    <tr>\n",
       "      <th>22691</th>\n",
       "      <td>19-02-2014 15:10</td>\n",
       "      <td>97.804168</td>\n",
       "      <td>-0.668700</td>\n",
       "    </tr>\n",
       "    <tr>\n",
       "      <th>22692</th>\n",
       "      <td>19-02-2014 15:15</td>\n",
       "      <td>97.135468</td>\n",
       "      <td>0.921384</td>\n",
       "    </tr>\n",
       "    <tr>\n",
       "      <th>22693</th>\n",
       "      <td>19-02-2014 15:20</td>\n",
       "      <td>98.056852</td>\n",
       "      <td>-1.152991</td>\n",
       "    </tr>\n",
       "  </tbody>\n",
       "</table>\n",
       "<p>22694 rows × 3 columns</p>\n",
       "</div>"
      ],
      "text/plain": [
       "              timestamp  temperature  delta_temperature\n",
       "0      02-12-2013 21:15    73.967322           0.968560\n",
       "1      02-12-2013 21:20    74.935882           1.188280\n",
       "2      02-12-2013 21:25    76.124162           2.016546\n",
       "3      02-12-2013 21:30    78.140707           1.189128\n",
       "4      02-12-2013 21:35    79.329836          -0.619417\n",
       "...                 ...          ...                ...\n",
       "22689  19-02-2014 15:00          NaN                NaN\n",
       "22690  19-02-2014 15:05    98.185415          -0.381246\n",
       "22691  19-02-2014 15:10    97.804168          -0.668700\n",
       "22692  19-02-2014 15:15    97.135468           0.921384\n",
       "22693  19-02-2014 15:20    98.056852          -1.152991\n",
       "\n",
       "[22694 rows x 3 columns]"
      ]
     },
     "execution_count": 7,
     "metadata": {},
     "output_type": "execute_result"
    }
   ],
   "source": [
    "df['delta_temperature'] = df['temperature'].shift(-1) - df['temperature']\n",
    "df = df[:-1]\n",
    "df"
   ]
  },
  {
   "cell_type": "code",
   "execution_count": 8,
   "id": "0863f03d",
   "metadata": {},
   "outputs": [
    {
     "data": {
      "image/png": "[encoded data removed]",
      "text/plain": [
       "<Figure size 432x288 with 1 Axes>"
      ]
     },
     "metadata": {
      "needs_background": "light"
     },
     "output_type": "display_data"
    }
   ],
   "source": [
    "import matplotlib.pyplot as plt\n",
    "\n",
    "x = df['timestamp']\n",
    "y = df['temperature']\n",
    "plt.plot(x, y)\n",
    "\n",
    "plt.xlabel(\"TimeStamps\")\n",
    "plt.ylabel(\"Temperature\")\n",
    "\n",
    "plt.show()"
   ]
  },
  {
   "cell_type": "code",
   "execution_count": 9,
   "id": "c8599495",
   "metadata": {},
   "outputs": [
    {
     "data": {
      "image/png": "[encoded data removed]",
      "text/plain": [
       "<Figure size 432x288 with 1 Axes>"
      ]
     },
     "metadata": {
      "needs_background": "light"
     },
     "output_type": "display_data"
    }
   ],
   "source": [
    "import matplotlib.pyplot as plt\n",
    "\n",
    "x = df['timestamp']\n",
    "y = df['delta_temperature']\n",
    "plt.plot(x, y)\n",
    "\n",
    "plt.xlabel(\"TimeStamps\")\n",
    "plt.ylabel(\"Temperature\")\n",
    "\n",
    "plt.show()"
   ]
  },
  {
   "cell_type": "code",
   "execution_count": 10,
   "id": "3e8419a4",
   "metadata": {},
   "outputs": [
    {
     "data": {
      "image/png": "[encoded data removed]",
      "text/plain": [
       "<Figure size 432x288 with 1 Axes>"
      ]
     },
     "metadata": {
      "needs_background": "light"
     },
     "output_type": "display_data"
    }
   ],
   "source": [
    "above_threshold = df[df['temperature'] > 70.00]\n",
    "below_threshold = df[df['temperature'] <= 70.00]\n",
    "\n",
    "\n",
    "plt.scatter(above_threshold['timestamp'], above_threshold['temperature'], color='red', label='Above 70.00')\n",
    "\n",
    "\n",
    "plt.scatter(below_threshold['timestamp'], below_threshold['temperature'], color='blue', label='Below 70.00')\n",
    "\n",
    "\n",
    "plt.xlabel('TimeStamps')\n",
    "plt.ylabel('Temperature')\n",
    "plt.legend()\n",
    "\n",
    "\n",
    "plt.show()"
   ]
  },
  {
   "cell_type": "code",
   "execution_count": null,
   "id": "9c0df8dd",
   "metadata": {},
   "outputs": [],
   "source": [
    "def read_dataset(file, date_col=None):\n",
    "    '''\n",
    "    folder: is a Path object\n",
    "    file: the CSV filename in that Path object. \n",
    "    date_col: specify a date_col to use as index_col \n",
    "    \n",
    "    returns: a pandas DataFrame with a DatetimeIndex\n",
    "    '''\n",
    "    df = pd.read_csv(file, \n",
    "                     index_col=date_col, \n",
    "                     parse_dates=[date_col])\n",
    "    return df"
   ]
  },
  {
   "cell_type": "code",
   "execution_count": null,
   "id": "57ef107e",
   "metadata": {},
   "outputs": [],
   "source": [
    "def plot_dfs(df1, df2, col, title=None, xlabel=None, ylabel=None):\n",
    "    '''\t\n",
    "    df1: original dataframe without missing data\n",
    "    df2: dataframe with missing data\n",
    "    col: column name that contains missing data\n",
    "    '''    \n",
    "    df_missing = df2.rename(columns={col: 'missing'})\n",
    "    \n",
    "    columns = df_missing.loc[:, 'missing':].columns.tolist()\n",
    "    subplots_size = len(columns)\n",
    "    \n",
    "    # subplots_size = df2.shape[1]\n",
    "    fig, ax = plt.subplots(subplots_size+1, 1, sharex=True)\n",
    "    plt.subplots_adjust(hspace=0.25)\n",
    "    fig.suptitle = title \n",
    "    \n",
    "    df1[col].plot(ax=ax[0], figsize=(10, 16))\n",
    "    ax[0].set_title('Original Dataset')\n",
    "    ax[0].set_xlabel(xlabel)\n",
    "    ax[0].set_ylabel(ylabel)    \n",
    "    \n",
    "    for i, colname in enumerate(columns):\n",
    "        df_missing[colname].plot(ax=ax[i+1])\n",
    "        ax[i+1].set_title(colname)\n",
    "\n",
    "    plt.show()"
   ]
  },
  {
   "cell_type": "code",
   "execution_count": null,
   "id": "d6105403",
   "metadata": {},
   "outputs": [],
   "source": [
    "def rmse_score(df1, df2, col=None):\n",
    "    '''\n",
    "    df1: original dataframe without missing data\n",
    "    df2: dataframe with missing data\n",
    "    col: column name that contains missing data\n",
    "\n",
    "    returns: a list of scores\n",
    "    '''\n",
    "    df_missing = df2.rename(columns={col: 'missing'})\n",
    "    columns = df_missing.loc[:, 'missing':].columns.tolist()\n",
    "    scores = []\n",
    "    for comp_col in columns[1:]:\n",
    "        rmse = np.sqrt(np.mean((df1[col] - df_missing[comp_col])**2))\n",
    "        scores.append(rmse)\n",
    "        print(f'RMSE for {comp_col}: {rmse}')\n",
    "    return scores"
   ]
  },
  {
   "cell_type": "code",
   "execution_count": null,
   "id": "ac4e3d1f",
   "metadata": {},
   "outputs": [],
   "source": [
    "df.isnull()"
   ]
  },
  {
   "cell_type": "code",
   "execution_count": null,
   "id": "4596cb9c",
   "metadata": {},
   "outputs": [],
   "source": [
    "file1 = \"/Users/vivekvijay/Downloads/machine_temp_failure_missing.csv\"\n",
    "file2 =  \"/Users/vivekvijay/Downloads/machine_temp_failure_original.csv\"\n",
    "df_missing = read_dataset(file1, 'timestamp')\n",
    "df_original = read_dataset(file2, 'timestamp')"
   ]
  },
  {
   "cell_type": "code",
   "execution_count": null,
   "id": "c6deb878",
   "metadata": {},
   "outputs": [],
   "source": [
    "df_missing.rename(columns={\"value\": \"temperature\"},inplace = True)\n",
    "df_original.rename(columns ={\"value\":\"temperature\"},inplace = True)"
   ]
  },
  {
   "cell_type": "code",
   "execution_count": null,
   "id": "bee6bdfa",
   "metadata": {},
   "outputs": [],
   "source": [
    "df_missing"
   ]
  },
  {
   "cell_type": "code",
   "execution_count": null,
   "id": "dfb38112",
   "metadata": {},
   "outputs": [],
   "source": [
    "df_original"
   ]
  },
  {
   "cell_type": "code",
   "execution_count": null,
   "id": "3a1bd3b4",
   "metadata": {},
   "outputs": [],
   "source": [
    "df_missing.isnull().sum()"
   ]
  },
  {
   "cell_type": "code",
   "execution_count": null,
   "id": "f0ec6158",
   "metadata": {},
   "outputs": [],
   "source": [
    "plot_dfs(df_original, \n",
    "         df_missing, \n",
    "         'temperature',\n",
    "         title=\"Temp vs Time\",\n",
    "         xlabel=\"Timestamp\",\n",
    "         ylabel=\"Temperature\")"
   ]
  },
  {
   "cell_type": "code",
   "execution_count": null,
   "id": "41469ff8",
   "metadata": {},
   "outputs": [],
   "source": [
    "df_missing['ffill'] = df_missing['temperature'].fillna(method='ffill')\n",
    "df_missing['bfill'] = df_missing['temperature'].fillna(method='bfill')\n",
    "df_missing['mean'] = df_missing['temperature'].fillna(df_missing['temperature'].mean())"
   ]
  },
  {
   "cell_type": "code",
   "execution_count": null,
   "id": "3c77f88d",
   "metadata": {},
   "outputs": [],
   "source": [
    "_ = rmse_score(df_original, \n",
    "                    df_missing, \n",
    "                    'temperature')"
   ]
  },
  {
   "cell_type": "code",
   "execution_count": null,
   "id": "11402c0e",
   "metadata": {},
   "outputs": [],
   "source": [
    "plot_dfs(df_original, df_missing, 'temperature')"
   ]
  },
  {
   "cell_type": "code",
   "execution_count": null,
   "id": "b130295f",
   "metadata": {},
   "outputs": [],
   "source": [
    "from sklearn.impute import SimpleImputer\n",
    "df_missing = read_dataset(file1, 'timestamp')\n",
    "df_original = read_dataset(file2, 'timestamp')\n",
    "df_missing.rename(columns={\"value\": \"temperature\"},inplace = True)\n",
    "df_original.rename(columns ={\"value\":\"temperature\"},inplace = True)"
   ]
  },
  {
   "cell_type": "code",
   "execution_count": null,
   "id": "f5e220f8",
   "metadata": {},
   "outputs": [],
   "source": [
    "strategy = [\n",
    "    ('Mean Strategy', 'mean'),\n",
    "    ('Median Strategy', 'median'),\n",
    "    ('Most Frequent Strategy', 'most_frequent')]\n",
    "temp_vals = df_missing['temperature'].values.reshape(-1,1)\n",
    "\n",
    "for s_name, s in strategy:\n",
    "    df_missing[s_name] = (\n",
    "        SimpleImputer(strategy=s).fit_transform(temp_vals))"
   ]
  },
  {
   "cell_type": "code",
   "execution_count": null,
   "id": "a71db380",
   "metadata": {},
   "outputs": [],
   "source": [
    "df_missing.head()"
   ]
  },
  {
   "cell_type": "code",
   "execution_count": null,
   "id": "8550b180",
   "metadata": {},
   "outputs": [],
   "source": [
    "_ = rmse_score(df_original, df_missing, 'temperature')"
   ]
  },
  {
   "cell_type": "code",
   "execution_count": null,
   "id": "89d9d2cd",
   "metadata": {},
   "outputs": [],
   "source": [
    "plot_dfs(df_original, df_missing, 'temperature')"
   ]
  },
  {
   "cell_type": "code",
   "execution_count": null,
   "id": "b06e0626",
   "metadata": {},
   "outputs": [],
   "source": [
    "pip install seaborn"
   ]
  },
  {
   "cell_type": "code",
   "execution_count": null,
   "id": "7de54d50",
   "metadata": {},
   "outputs": [],
   "source": [
    "import seaborn as sns\n",
    "import scipy.stats as stats\n",
    "plt.figure(figsize=(8, 6))\n",
    "sns.boxplot(data=df_missing['temperature'])\n",
    "plt.title('Box Plot - Temperature')\n",
    "plt.xlabel('Temperature')\n",
    "plt.show()"
   ]
  },
  {
   "cell_type": "code",
   "execution_count": null,
   "id": "95127734",
   "metadata": {},
   "outputs": [],
   "source": [
    "plt.figure(figsize=(8, 6))\n",
    "sns.boxenplot(data=df_missing['temperature'])\n",
    "plt.title('Boxen Plot - Temperature')\n",
    "plt.xlabel('Temperature')\n",
    "plt.show()"
   ]
  },
  {
   "cell_type": "code",
   "execution_count": null,
   "id": "9f72ce78",
   "metadata": {},
   "outputs": [],
   "source": [
    "plt.figure(figsize=(8, 6))\n",
    "pd.plotting.lag_plot(df_missing['temperature'])\n",
    "plt.title('Lag Plot - Temperature')\n",
    "plt.xlabel('Temperature (t)')\n",
    "plt.ylabel('Temperature (t+1)')\n",
    "plt.show()"
   ]
  },
  {
   "cell_type": "code",
   "execution_count": null,
   "id": "89fe6a3b",
   "metadata": {},
   "outputs": [],
   "source": [
    "def iqr_outliers(data):\n",
    "    q1 = data.quantile(0.25)\n",
    "    q3 = data.quantile(0.75)\n",
    "    iqr = q3 - q1\n",
    "    lower_bound = q1 - 1.5 * iqr\n",
    "    upper_bound = q3 + 1.5 * iqr\n",
    "    outliers = data[(data < lower_bound) | (data > upper_bound)]\n",
    "    return outliers"
   ]
  },
  {
   "cell_type": "code",
   "execution_count": null,
   "id": "c42ed264",
   "metadata": {},
   "outputs": [],
   "source": [
    "outliers = iqr_outliers(df_missing['temperature'])\n",
    "print('Outliers:')\n",
    "print(outliers)"
   ]
  },
  {
   "cell_type": "code",
   "execution_count": null,
   "id": "d50668e2",
   "metadata": {},
   "outputs": [],
   "source": [
    "z_scores = stats.zscore(df_missing['temperature'])\n",
    "plt.figure(figsize=(8, 6))\n",
    "plt.plot(z_scores)\n",
    "plt.title('Z-Score Plot - Temperature')\n",
    "plt.xlabel('Index')\n",
    "plt.ylabel('Z-Score')\n",
    "plt.show()"
   ]
  }
 ],
 "metadata": {
  "kernelspec": {
   "display_name": "Python 3 (ipykernel)",
   "language": "python",
   "name": "python3"
  },
  "language_info": {
   "codemirror_mode": {
    "name": "ipython",
    "version": 3
   },
   "file_extension": ".py",
   "mimetype": "text/x-python",
   "name": "python",
   "nbconvert_exporter": "python",
   "pygments_lexer": "ipython3",
   "version": "3.10.4"
  }
 },
 "nbformat": 4,
 "nbformat_minor": 5
}
